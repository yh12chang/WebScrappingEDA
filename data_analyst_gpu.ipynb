{
 "cells": [
  {
   "cell_type": "markdown",
   "metadata": {},
   "source": [
    "# **GPU Market of NVIDIA Graphics Cards on Newegg**\n",
    "#### *Exploratory Data Analysis Project & Web Scrapping*\n",
    "###### Analysis by: YongHun Chang\n",
    "\n",
    ">**<span style=\"color:maroon\">Goal</span>:**\n",
    ">\n",
    ">Purpose of this EDA is to utilize python packages such as *BeautifulSoup4*, *requests*, and *pandas*. This EDA will look at the current graphics processing unit (GPU) market of the Nvidia cards provided by the platform of Newegg. Data for each GPU will be retrieved using Web Scrapping through python packages: *BeautifulSoup4*, *requests*. Prices of each card and model will be compared to the initial release MSRP, along with performance ratings and possible recommendations for which GPU is worth the most value at this moment."
   ]
  },
  {
   "cell_type": "code",
   "execution_count": 1,
   "metadata": {},
   "outputs": [],
   "source": [
    "# All of the packages to import\n",
    "from bs4 import BeautifulSoup\n",
    "import pandas as pd\n",
    "import numpy as np\n",
    "import requests\n",
    "import re\n",
    "import matplotlib.pyplot as plt"
   ]
  },
  {
   "cell_type": "markdown",
   "metadata": {},
   "source": [
    "####  <ins>**A. Web Scrapping for Single Page**</ins>\n",
    ">This first section is used to help familiarize myself with using *BeautifulSoup4* and *requests*. This section will retrieve the GPU data of a single page product listing. The data will then be placed into a dictionary, which later will be converted into a *pandas* DataFrame."
   ]
  },
  {
   "cell_type": "markdown",
   "metadata": {},
   "source": [
    "<span style=\"color:green\">Step 1</span>: Import all of the packages that will be needed for this project and initialize necessary variables."
   ]
  },
  {
   "cell_type": "code",
   "execution_count": null,
   "metadata": {},
   "outputs": [],
   "source": [
    "# Import BeautifulSoup, pandas, and requests\n",
    "from bs4 import BeautifulSoup\n",
    "import pandas as pd\n",
    "import requests\n",
    "import re\n",
    "\n",
    "# Constructor for GPU attributes\n",
    "gpu_info = {}\n",
    "fixed_names = []\n",
    "fixed_prices = []\n",
    "fixed_ratings = []\n",
    "fixed_reviews = []\n",
    "product_link = []"
   ]
  },
  {
   "cell_type": "markdown",
   "metadata": {},
   "source": [
    "<span style=\"color:green\">Step 2</span>: Use *BeautifulSoup* and *requests* to retrieve the page of GPU. (Test with RTX 3050 cards)"
   ]
  },
  {
   "cell_type": "code",
   "execution_count": null,
   "metadata": {},
   "outputs": [],
   "source": [
    "# Request webpage and retrieve the html of the page\n",
    "url = \"https://www.newegg.com/p/pl?N=100007709%20601357282&PageSize=96&d=rtx+3050&isdeptsrh=1&ComboBundle=true\"    # RTX 3050 card link\n",
    "web = requests.get(url).text\n",
    "doc = BeautifulSoup(web, \"html.parser\")"
   ]
  },
  {
   "cell_type": "markdown",
   "metadata": {},
   "source": [
    "<span style=\"color:green\">Step 3</span>: Find the specific HTML attribute that holds each product listing."
   ]
  },
  {
   "cell_type": "code",
   "execution_count": null,
   "metadata": {},
   "outputs": [],
   "source": [
    "# Find all items with the class item-container to find each GPU listed\n",
    "items = doc.find_all('div', class_=\"item-container\")"
   ]
  },
  {
   "cell_type": "markdown",
   "metadata": {},
   "source": [
    "<span style=\"color:green\">Step 4</span>: For each product listed, find the *Name*, *Price*, *Rating*, *Num of Reviews*, and *Product Link*."
   ]
  },
  {
   "cell_type": "code",
   "execution_count": null,
   "metadata": {},
   "outputs": [],
   "source": [
    "# Traverse through all the items on the website to find the NAME and PRICE\n",
    "for i in items:\n",
    "    # n=name p=price and this step gets the components with NAME and PRICE from the previous selected items\n",
    "    info, p = i.contents[1:3]\n",
    "    # Find the specific html component that holds the item NAME\n",
    "    name = info.find(class_=\"item-title\")\n",
    "    # Find the specific html component that holds the item PRICE\n",
    "    price = p.find('li', class_=\"price-current\")\n",
    "    # Make sure that all items exist and the values are not NONE\n",
    "    if name != None and price != None and price.strong != None and price.sup != None:\n",
    "\n",
    "        # Append the NAME as a string into an array\n",
    "        fixed_names.append(name.string)\n",
    "\n",
    "        # Append the product LINK as a string\n",
    "        product_link.append(name['href'])\n",
    "\n",
    "        # Append the PRICE as a float into an array\n",
    "        fixed_prices.append(float(price.strong.string.replace(',','') + price.sup.string))\n",
    "\n",
    "            # Ratings and reviews are taken after the items are filtered through available GPU's at the moment\n",
    "        # Retrieve customer ratings of GPU\n",
    "        rating = info.find(class_=\"item-rating\")\n",
    "        # If there are no reviews, assign 0\n",
    "        if rating == None:\n",
    "            fixed_ratings.append(0)\n",
    "        # If there are reviews, assign out of 5\n",
    "        if rating != None:\n",
    "            rate = rating.find('i')\n",
    "            r = rate['aria-label'].split()\n",
    "            fixed_ratings.append(float(r[1]))\n",
    "\n",
    "        # Retrieve number of reviews of GPU\n",
    "        review = info.find(class_=\"item-rating-num\")\n",
    "        # If there are no reviews, assign 0\n",
    "        if review == None:\n",
    "            fixed_reviews.append(0)\n",
    "        # If there are review, assign number of reviews\n",
    "        if review != None:\n",
    "            r = review.string.replace('(', '').replace(')','')\n",
    "            fixed_reviews.append(int(r))"
   ]
  },
  {
   "cell_type": "markdown",
   "metadata": {},
   "source": [
    "><span style=\"color:red\">Check</span>: Print the first element of each array to check information."
   ]
  },
  {
   "cell_type": "code",
   "execution_count": null,
   "metadata": {},
   "outputs": [],
   "source": [
    "print(fixed_names[0])\n",
    "print(fixed_prices[0])\n",
    "print(fixed_ratings[0])\n",
    "print(fixed_reviews[0])\n",
    "print(product_link[0])"
   ]
  },
  {
   "cell_type": "markdown",
   "metadata": {},
   "source": [
    "<span style=\"color:green\">Step 5</span>: Add each arrray to a dictionary with correct identifiers (keys)."
   ]
  },
  {
   "cell_type": "code",
   "execution_count": null,
   "metadata": {},
   "outputs": [],
   "source": [
    "# Assign values to dictionary created above\n",
    "gpu_info['name'] = fixed_names\n",
    "gpu_info['price'] = fixed_prices\n",
    "gpu_info['rating'] = fixed_ratings\n",
    "gpu_info['review'] = fixed_reviews\n",
    "gpu_info['link'] = product_link"
   ]
  },
  {
   "cell_type": "markdown",
   "metadata": {},
   "source": [
    "<span style=\"color:green\">Step 6</span>: Create a *pandas* DataFrame using the dictionary created. Print the dataframe."
   ]
  },
  {
   "cell_type": "code",
   "execution_count": null,
   "metadata": {},
   "outputs": [],
   "source": [
    "df = pd.DataFrame(gpu_info)\n",
    "df"
   ]
  },
  {
   "cell_type": "markdown",
   "metadata": {},
   "source": [
    "####  <ins>**B. Web Scrapping for Multiple Pages**</ins>\n",
    ">Now that the basics of web scrapping was covered, it is important that this operation can occur if there are more than 1 pages for a product listing. For this, there needs to be a way to keep track of how many pages the product lists, and be able to move from one page to another until the operation has traversed through all pages."
   ]
  },
  {
   "cell_type": "markdown",
   "metadata": {},
   "source": [
    "<span style=\"color:green\">Step 1</span>: Using previous web data of RTX 3050, create a *page* variable to keep track of the number of pages the product lists.\n",
    "\n",
    "```python\n",
    "    # Request webpage and retrieve the html of the page\n",
    "    url = \"https://www.newegg.com/p/pl?N=100007709%20601357282&PageSize=96&d=rtx+3050&isdeptsrh=1&ComboBundle=true\"    # RTX 3050 card link\n",
    "    web = requests.get(url).text\n",
    "    doc = BeautifulSoup(web, \"html.parser\")\n",
    "```"
   ]
  },
  {
   "cell_type": "code",
   "execution_count": null,
   "metadata": {},
   "outputs": [],
   "source": [
    "# Find the number of pages of the GPU are available\n",
    "page_comp = doc.find(class_=\"list-tool-pagination-text\").strong\n",
    "page_num = int(str(page_comp).split(\"/\")[1].split(\">\")[1][0])        # Parse the number of pages to int"
   ]
  },
  {
   "cell_type": "markdown",
   "metadata": {},
   "source": [
    "<span style=\"color:green\">Step 2</span>: The operation needs to run on each of the pages listed. Traverse through the pages of the product posting using a loop."
   ]
  },
  {
   "cell_type": "code",
   "execution_count": null,
   "metadata": {},
   "outputs": [],
   "source": [
    "# Run the operation on number of pages\n",
    "for page in range(1, page_num + 1):\n",
    "\n",
    "    # Modify URL to access the correct page\n",
    "    # If the current page was the first page, add the page tag at the end of the URL\n",
    "    if url.find(\"&page=\") == False:\n",
    "        url = url + \"&page=\" + str(page)\n",
    "    # If the current page was anything other than the first page, then replace the tag to access the correct page\n",
    "    else :\n",
    "        url = url.split(\"&page=\")[0] + \"&page=\" + str(page)"
   ]
  },
  {
   "cell_type": "markdown",
   "metadata": {},
   "source": [
    "####  <ins>**C. Create a Function to Retrieve Data from Website**</ins>\n",
    ">All the components to find graphics card data have been written. However, it will be redundant to rewrite this code for every GPU being looked at. Instead, it can be easier to create a function that returns a *pandas* DataFrame of the GPU information, given the URL of the GPU."
   ]
  },
  {
   "cell_type": "markdown",
   "metadata": {},
   "source": [
    "<span style=\"color:green\">Step 1</span>: Given all the components for retrieving data of all pages of a product listing, combine all the components to retrieve the GPU data from all pages. Put the combined code into a function so that it can be called on later for different links."
   ]
  },
  {
   "cell_type": "code",
   "execution_count": 7,
   "metadata": {},
   "outputs": [],
   "source": [
    "# Define function for Web Scrapping Newegg\n",
    "def getGPUData(model: str, number: int, var = \"\"):\n",
    "\n",
    "    # Constructor for GPU attributes\n",
    "    gpu_info = {}\n",
    "    fixed_names = []\n",
    "    fixed_prices = []\n",
    "    fixed_ratings = []\n",
    "    fixed_reviews = []\n",
    "    product_link = []\n",
    "    count = 0\n",
    "\n",
    "    # Initializing the URL to fit the user's requested GPU model\n",
    "    if var != \"\":\n",
    "        gpu = model + \"+\" + str(number) + \"+\" + var\n",
    "    else:\n",
    "        gpu = model + \"+\" + str(number)\n",
    "\n",
    "    url = \"https://www.newegg.com/p/pl?ComboBundle=true&N=100007709&d={gpu}&isdeptsrh=1\".format(gpu = gpu)\n",
    "    print(url)\n",
    "\n",
    "    # Request webpage and retrieve the html of the page\n",
    "    web = requests.get(url).text\n",
    "    doc = BeautifulSoup(web, \"html.parser\")\n",
    "\n",
    "    # Find the number of pages of the GPU are available\n",
    "    page_comp = doc.find(class_=\"list-tool-pagination-text\").strong\n",
    "    page_num = int(str(page_comp).split(\"/\")[1].split(\">\")[1][:-1])        # Parse the number of pages to int\n",
    "\n",
    "    # Run the operation on number of pages\n",
    "    for page in range(1, page_num + 1):\n",
    "\n",
    "        # Modify URL to access the correct page\n",
    "        # If the current page was the first page, add the page tag at the end of the URL\n",
    "        if url.find(\"&page=\") == False:\n",
    "            url = url + \"&page=\" + str(page)\n",
    "        # If the current page was anything other than the first page, then replace the tag to access the correct page\n",
    "        else :\n",
    "            url = url.split(\"&page=\")[0] + \"&page=\" + str(page)\n",
    "\n",
    "        # Access the specific page using modified URL\n",
    "        web = requests.get(url).text\n",
    "        doc = BeautifulSoup(web, \"html.parser\")\n",
    "\n",
    "        # Find all items with the class item-container to find each GPU listed\n",
    "        items = doc.find_all('div', class_=\"item-container\")\n",
    "\n",
    "        # Traverse through all the items on the website to find the NAME and PRICE\n",
    "        for i in items:\n",
    "            # n=name p=price and this step gets the components with NAME and PRICE from the previous selected items\n",
    "            info, p = i.contents[1:3]\n",
    "            # Find the specific html component that holds the item NAME\n",
    "            name = info.find(class_=\"item-title\")\n",
    "            # Find the specific html component that holds the item PRICE\n",
    "            price = p.find('li', class_=\"price-current\")\n",
    "            # Make sure that all items exist and the values are not NONE\n",
    "            if name != None and price != None and price.strong != None and price.sup != None:\n",
    "\n",
    "                # Append the NAME as a string into an array\n",
    "                fixed_names.append(name.string)\n",
    "\n",
    "                # Append the product LINK as a string\n",
    "                product_link.append(name['href'])\n",
    "\n",
    "                # Append the PRICE as a float into an array\n",
    "                fixed_prices.append(float(price.strong.string.replace(',','') + price.sup.string))\n",
    "\n",
    "                    # Ratings and reviews are taken after the items are filtered through available GPU's at the moment\n",
    "                # Retrieve customer ratings of GPU\n",
    "                rating = info.find(class_=\"item-rating\")\n",
    "                # If there are no reviews, assign 0\n",
    "                if rating == None:\n",
    "                    fixed_ratings.append(0)\n",
    "                # If there are reviews, assign out of 5\n",
    "                if rating != None:\n",
    "                    rate = rating.find('i')\n",
    "                    r = rate['aria-label'].split()\n",
    "                    fixed_ratings.append(float(r[1]))\n",
    "\n",
    "                # Retrieve number of reviews of GPU\n",
    "                review = info.find(class_=\"item-rating-num\")\n",
    "                # If there are no reviews, assign 0\n",
    "                if review == None:\n",
    "                    fixed_reviews.append(0)\n",
    "                # If there are review, assign number of reviews\n",
    "                if review != None:\n",
    "                    r = review.string.replace('(', '').replace(')','')\n",
    "                    fixed_reviews.append(int(r))\n",
    "\n",
    "                count = count + 1\n",
    "\n",
    "    # Assign values to dictionary created above\n",
    "    gpu_info['name'] = fixed_names\n",
    "    gpu_info['model'] = model.upper() + \" \" + str(number) + var\n",
    "    gpu_info['price'] = fixed_prices\n",
    "    gpu_info['rating'] = fixed_ratings\n",
    "    gpu_info['review'] = fixed_reviews\n",
    "    gpu_info['link'] = product_link\n",
    "\n",
    "    # Print a message saying successful retrieval\n",
    "    print(\"Successfully retrieved \" + str(count) + \" \" + model.upper() + \" \" + str(number) + \" GPUs from Newegg.\")\n",
    "\n",
    "    # Return the dataframe\n",
    "    return(pd.DataFrame(gpu_info))"
   ]
  },
  {
   "cell_type": "markdown",
   "metadata": {},
   "source": [
    "####  <ins>**D. Create all the DataFrames of each GPU**</ins>\n",
    ">This section will be focused on cleaning the data and getting different information required for the analytical process."
   ]
  },
  {
   "cell_type": "markdown",
   "metadata": {},
   "source": [
    "<span style=\"color:green\">Step 1</span>: Retrieve all NVIDIA GPUs that are going to be looked at for this analysis."
   ]
  },
  {
   "cell_type": "code",
   "execution_count": 6,
   "metadata": {},
   "outputs": [
    {
     "name": "stdout",
     "output_type": "stream",
     "text": [
      "rtx+3050\n",
      "https://www.newegg.com/p/pl?ComboBundle=true&N=100007709&d=rtx+3050&isdeptsrh=1\n",
      "Successfully retrieved 74RTX 3050 GPUs from Newegg.\n",
      "rtx+3060\n",
      "https://www.newegg.com/p/pl?ComboBundle=true&N=100007709&d=rtx+3060&isdeptsrh=1\n",
      "Successfully retrieved 499RTX 3060 GPUs from Newegg.\n",
      "rtx+3070\n",
      "https://www.newegg.com/p/pl?ComboBundle=true&N=100007709&d=rtx+3070&isdeptsrh=1\n",
      "Successfully retrieved 302RTX 3070 GPUs from Newegg.\n",
      "rtx+3080\n",
      "https://www.newegg.com/p/pl?ComboBundle=true&N=100007709&d=rtx+3080&isdeptsrh=1\n",
      "Successfully retrieved 351RTX 3080 GPUs from Newegg.\n",
      "rtx+3090\n",
      "https://www.newegg.com/p/pl?ComboBundle=true&N=100007709&d=rtx+3090&isdeptsrh=1\n",
      "Successfully retrieved 176RTX 3090 GPUs from Newegg.\n"
     ]
    }
   ],
   "source": [
    "# Use getGPUData() to retrieve nvidia gpu information\n",
    "df_50 = getGPUData(\"rtx\", 3050)\n",
    "df_60 = getGPUData(\"rtx\", 3060)\n",
    "df_70 = getGPUData(\"rtx\", 3070)\n",
    "df_80 = getGPUData(\"rtx\", 3080)\n",
    "df_90 = getGPUData(\"rtx\", 3090)"
   ]
  },
  {
   "cell_type": "markdown",
   "metadata": {},
   "source": [
    "<span style=\"color:green\">Step 2</span>: Separate Base Model and Ti Model\n",
    "\n",
    "* Every graphics card other than the RTX 3050 has a TI variant. These cards perform better than its base model, which means that these cards need to be excluded from the base model dataframe. Another dataframe will be created for these versions of GPU.\n",
    "\n",
    "* Look for any instances where the name of the GPU includes the substring \"Ti\". Add these instances to a new dataframe to keep track of the Ti models. After, create a new dataframe excluding these instances to represent the base model data."
   ]
  },
  {
   "cell_type": "code",
   "execution_count": 8,
   "metadata": {},
   "outputs": [
    {
     "name": "stdout",
     "output_type": "stream",
     "text": [
      "236 GPUs were Ti models.\n"
     ]
    }
   ],
   "source": [
    "# Finds the indices with the substring \"Ti\" in the name of the GPU\n",
    "ti = df_60['name'].str.contains('Ti')\n",
    "\n",
    "# Counts the number of GPU that contained \"Ti\"\n",
    "count = ti.sum()\n",
    "\n",
    "# Copies all the instances WITH the substring \"Ti\" in its name into a new dataframe and resets the index counting\n",
    "rtx3060ti = df_60[ti].reset_index(drop = True)\n",
    "\n",
    "# Copies all the instances WITHOUT the substring \"Ti\" in its name into a new dataframe and resets the index counting\n",
    "rtx3060 = df_60[~ti].reset_index(drop = True)\n",
    "\n",
    "# Print the number of rows removed\n",
    "print(str(count) + \" GPUs were Ti models.\")\n"
   ]
  },
  {
   "cell_type": "markdown",
   "metadata": {},
   "source": [
    "<span style=\"color:green\">Step 3</span>: The above process can be more efficient if it is made into a function. The code below defines a function called categorizeGPU() that takes in a *pandas* DataFrame and returns two new dataframe with and without the Ti graphics cards."
   ]
  },
  {
   "cell_type": "markdown",
   "metadata": {},
   "source": [
    ">**<span style=\"color:blue\">Function</span>:** Divide the DataFrame to Correct GPU Model Types\n",
    ">* Rename the 'model' column to include \"-Ti\" in the name."
   ]
  },
  {
   "cell_type": "code",
   "execution_count": 8,
   "metadata": {},
   "outputs": [],
   "source": [
    "# Create a function to remove all instances of Ti model of GPUs\n",
    "def categorizeGPU(df: pd.DataFrame):\n",
    "    # Finds the indices with the substring \"Ti\" in the name of the GPU\n",
    "    ti = df['name'].str.contains('Ti')\n",
    "    # Counts the number of GPU that contained \"Ti\"\n",
    "    count = ti.sum()\n",
    "    \n",
    "    # If the GPU Dataframe consists of Ti models\n",
    "    if count > 0:\n",
    "        # Copies all the instances WITH the substring \"Ti\" in its name into a new dataframe and resets the index counting\n",
    "        gpu_df_ti = df[ti].reset_index(drop = True)\n",
    "\n",
    "        # Copies all the instances WITHOUT the substring \"Ti\" in its name into a new dataframe and resets the index counting\n",
    "        gpu_df = df[~ti].reset_index(drop = True)\n",
    "\n",
    "        # Edit the model of the GPU to include \"Ti\"\n",
    "        gpu_df_ti['model'] = gpu_df_ti['model'][0] + \"-Ti\"\n",
    "\n",
    "        # Print the number of rows removed\n",
    "        print(str(count) + \" GPUs contained Ti.\")\n",
    "\n",
    "        # Return the new dataframe\n",
    "        return gpu_df_ti, gpu_df\n",
    "    \n",
    "    # If the GPU Dataframe does not consist of Ti models\n",
    "    else :\n",
    "\n",
    "        # Print message saying no GPUs were Ti models.\n",
    "        print(\"No GPUs were Ti models.\")\n",
    "    \n",
    "        # Return the modified original dataframe\n",
    "        return df"
   ]
  },
  {
   "cell_type": "markdown",
   "metadata": {},
   "source": [
    "<span style=\"color:green\">Step 4</span>: Utilize the function created to categorize the data into different GPU models."
   ]
  },
  {
   "cell_type": "code",
   "execution_count": 9,
   "metadata": {},
   "outputs": [
    {
     "name": "stdout",
     "output_type": "stream",
     "text": [
      "No GPUs were Ti models.\n",
      "236 GPUs contained Ti.\n",
      "114 GPUs contained Ti.\n",
      "108 GPUs contained Ti.\n",
      "33 GPUs contained Ti.\n"
     ]
    }
   ],
   "source": [
    "# Utilize removeTi() to remove all the instances of Ti graphics cards\n",
    "rtx3050 = categorizeGPU(df_50)\n",
    "rtx3060ti, rtx3060 = categorizeGPU(df_60)\n",
    "rtx3070ti, rtx3070 = categorizeGPU(df_70)\n",
    "rtx3080ti, rtx3080 = categorizeGPU(df_80)\n",
    "rtx3090ti, rtx3090 = categorizeGPU(df_90)"
   ]
  },
  {
   "cell_type": "markdown",
   "metadata": {},
   "source": [
    "#### <ins>**E. Data Cleaning**</ins>\n",
    "\n",
    ">This section will also be focused on cleaning the data to drop any outliers."
   ]
  },
  {
   "cell_type": "markdown",
   "metadata": {},
   "source": [
    "##### **<span style=\"color:green\">Part 1</span>:** Drop GPU Outliers\n",
    ">Prices for certain GPUs have been inflated beyond the standard. These data points can be dropped to make the analysis more accurate."
   ]
  },
  {
   "cell_type": "markdown",
   "metadata": {},
   "source": [
    "<span style=\"color:green\">Step 1</span>: Graph Price as a Box Plot. "
   ]
  },
  {
   "cell_type": "code",
   "execution_count": 96,
   "metadata": {},
   "outputs": [
    {
     "data": {
      "image/png": "[encoded data removed]",
      "text/plain": [
       "<Figure size 640x480 with 1 Axes>"
      ]
     },
     "metadata": {},
     "output_type": "display_data"
    }
   ],
   "source": [
    "gpu_price_list = [rtx3050['price'], rtx3060['price'], rtx3060ti['price'], rtx3070['price'], rtx3070ti['price'], rtx3080['price'], rtx3080ti['price'], rtx3090['price'], rtx3090ti['price']]\n",
    "gpu_name = ['RTX 3050', 'RTX 3060', 'RTX 3060-Ti', 'RTX 3070', 'RTX 3070-Ti', 'RTX 3080', 'RTX 3080-Ti', 'RTX 3090', 'RTX 3090-Ti']\n",
    "gpu_box = plt.boxplot(gpu_price_list, labels=gpu_name)\n",
    "plt.xticks(rotation=-45)\n",
    "plt.ylabel('Price ($)')\n",
    "plt.show()"
   ]
  },
  {
   "cell_type": "markdown",
   "metadata": {},
   "source": [
    "<span style=\"color:green\">Step 2</span>: Find the outliers according to price."
   ]
  },
  {
   "cell_type": "code",
   "execution_count": 106,
   "metadata": {},
   "outputs": [
    {
     "data": {
      "text/plain": [
       "{'name': ['RTX 3050',\n",
       "  'RTX 3060',\n",
       "  'RTX 3060-Ti',\n",
       "  'RTX 3070',\n",
       "  'RTX 3070-Ti',\n",
       "  'RTX 3080',\n",
       "  'RTX 3080-Ti',\n",
       "  'RTX 3090',\n",
       "  'RTX 3090-Ti'],\n",
       " 'outliers': [3, 13, 9, 12, 2, 10, 4, 7, 1]}"
      ]
     },
     "execution_count": 106,
     "metadata": {},
     "output_type": "execute_result"
    }
   ],
   "source": [
    "outliers = [item.get_ydata() for item in r50['fliers']]\n",
    "gpu_out = {}\n",
    "\n",
    "c = []\n",
    "\n",
    "for i in outliers:\n",
    "    c.append(len(i))\n",
    "\n",
    "gpu_out['name'] = gpu_name\n",
    "gpu_out['outliers'] = c\n",
    "\n",
    "gpu_out\n"
   ]
  },
  {
   "cell_type": "code",
   "execution_count": null,
   "metadata": {},
   "outputs": [],
   "source": [
    "filter = (gpu_box['AVG'] >= Q1 - 1.5 * IQR) & (df['AVG'] <= Q3 + 1.5 *IQR)\n",
    "df.loc[filter]"
   ]
  },
  {
   "cell_type": "markdown",
   "metadata": {},
   "source": [
    "####  <ins>**F. Data Preparation**</ins>\n",
    ">This section will be focused on preparing data into a master dataframe and retrieving gpu launch information."
   ]
  },
  {
   "cell_type": "markdown",
   "metadata": {},
   "source": [
    "##### **<span style=\"color:green\">Part 1</span>:** Create a Master DataFrame of All GPU\n",
    "\n",
    ">With the given dataframes, create a master dataframe that can be accessed later for easier analysis."
   ]
  },
  {
   "cell_type": "markdown",
   "metadata": {},
   "source": [
    "<span style=\"color:green\">Step 1</span>: All of the different GPU dataframes have the same shape and column labels, which means that all of the tables can be joined with pd.concat. This is the same as performing a union."
   ]
  },
  {
   "cell_type": "code",
   "execution_count": 10,
   "metadata": {},
   "outputs": [],
   "source": [
    "#Creating a master dataframe of all GPU information\n",
    "gpu_list = [rtx3050, rtx3060, rtx3060ti, rtx3070, rtx3070ti, rtx3080, rtx3080ti, rtx3090, rtx3090ti]\n",
    "# Concat all the dataframe into one and reorder the index\n",
    "df = pd.concat(gpu_list, ignore_index = True)"
   ]
  },
  {
   "cell_type": "markdown",
   "metadata": {},
   "source": [
    "<span style=\"color:green\">Step 2</span>: Create a separate column to label the company of each GPU manufacturer"
   ]
  },
  {
   "cell_type": "code",
   "execution_count": 11,
   "metadata": {},
   "outputs": [],
   "source": [
    "# Create array to hold company names\n",
    "companies = []\n",
    "\n",
    "# Traverse through the names of each GPU and retrieve company names\n",
    "for val in list(df['name'].items()):\n",
    "    part = val[1].split(\" \")\n",
    "    companies.append(part[0])\n",
    "\n",
    "# Add the new column of company names into the second index of the dataframe\n",
    "df.insert(loc=1, column='company', value=companies)"
   ]
  },
  {
   "cell_type": "code",
   "execution_count": 12,
   "metadata": {},
   "outputs": [
    {
     "data": {
      "text/html": [
       "<div>\n",
       "<style scoped>\n",
       "    .dataframe tbody tr th:only-of-type {\n",
       "        vertical-align: middle;\n",
       "    }\n",
       "\n",
       "    .dataframe tbody tr th {\n",
       "        vertical-align: top;\n",
       "    }\n",
       "\n",
       "    .dataframe thead th {\n",
       "        text-align: right;\n",
       "    }\n",
       "</style>\n",
       "<table border=\"1\" class=\"dataframe\">\n",
       "  <thead>\n",
       "    <tr style=\"text-align: right;\">\n",
       "      <th></th>\n",
       "      <th>name</th>\n",
       "      <th>company</th>\n",
       "      <th>model</th>\n",
       "      <th>price</th>\n",
       "      <th>rating</th>\n",
       "      <th>review</th>\n",
       "      <th>link</th>\n",
       "    </tr>\n",
       "  </thead>\n",
       "  <tbody>\n",
       "    <tr>\n",
       "      <th>0</th>\n",
       "      <td>GIGABYTE GeForce RTX 3050 GAMING OC 8G Graphic...</td>\n",
       "      <td>GIGABYTE</td>\n",
       "      <td>RTX 3050</td>\n",
       "      <td>299.99</td>\n",
       "      <td>4.8</td>\n",
       "      <td>88</td>\n",
       "      <td>https://www.newegg.com/gigabyte-geforce-rtx-30...</td>\n",
       "    </tr>\n",
       "    <tr>\n",
       "      <th>1</th>\n",
       "      <td>MSI Ventus GeForce RTX 3050 8GB GDDR6 PCI Expr...</td>\n",
       "      <td>MSI</td>\n",
       "      <td>RTX 3050</td>\n",
       "      <td>289.99</td>\n",
       "      <td>4.8</td>\n",
       "      <td>101</td>\n",
       "      <td>https://www.newegg.com/msi-geforce-rtx-3050-rt...</td>\n",
       "    </tr>\n",
       "    <tr>\n",
       "      <th>2</th>\n",
       "      <td>MSI Gaming GeForce RTX 3050 8GB GDDR6 PCI Expr...</td>\n",
       "      <td>MSI</td>\n",
       "      <td>RTX 3050</td>\n",
       "      <td>329.99</td>\n",
       "      <td>4.8</td>\n",
       "      <td>39</td>\n",
       "      <td>https://www.newegg.com/msi-geforce-rtx-3050-rt...</td>\n",
       "    </tr>\n",
       "    <tr>\n",
       "      <th>3</th>\n",
       "      <td>MSI GeForce RTX 3050 8GB GDDR6 PCI Express 4.0...</td>\n",
       "      <td>MSI</td>\n",
       "      <td>RTX 3050</td>\n",
       "      <td>318.38</td>\n",
       "      <td>5.0</td>\n",
       "      <td>1</td>\n",
       "      <td>https://www.newegg.com/msi-geforce-rtx-3050-rt...</td>\n",
       "    </tr>\n",
       "    <tr>\n",
       "      <th>4</th>\n",
       "      <td>GIGABYTE GeForce RTX 3050 EAGLE OC 8G Graphics...</td>\n",
       "      <td>GIGABYTE</td>\n",
       "      <td>RTX 3050</td>\n",
       "      <td>318.00</td>\n",
       "      <td>4.9</td>\n",
       "      <td>22</td>\n",
       "      <td>https://www.newegg.com/gigabyte-geforce-rtx-30...</td>\n",
       "    </tr>\n",
       "    <tr>\n",
       "      <th>...</th>\n",
       "      <td>...</td>\n",
       "      <td>...</td>\n",
       "      <td>...</td>\n",
       "      <td>...</td>\n",
       "      <td>...</td>\n",
       "      <td>...</td>\n",
       "      <td>...</td>\n",
       "    </tr>\n",
       "    <tr>\n",
       "      <th>1397</th>\n",
       "      <td>GIGABYTE Gaming GeForce RTX 3090 Ti 24GB GDDR6...</td>\n",
       "      <td>GIGABYTE</td>\n",
       "      <td>RTX 3090-Ti</td>\n",
       "      <td>1999.99</td>\n",
       "      <td>0.0</td>\n",
       "      <td>0</td>\n",
       "      <td>https://www.newegg.com/gigabyte-geforce-rtx-30...</td>\n",
       "    </tr>\n",
       "    <tr>\n",
       "      <th>1398</th>\n",
       "      <td>ASUS TUF Gaming NVIDIA GeForce RTX 3090 Ti OC ...</td>\n",
       "      <td>ASUS</td>\n",
       "      <td>RTX 3090-Ti</td>\n",
       "      <td>1699.99</td>\n",
       "      <td>0.0</td>\n",
       "      <td>0</td>\n",
       "      <td>https://www.newegg.com/asus-tuf-rtx3090ti-o24g...</td>\n",
       "    </tr>\n",
       "    <tr>\n",
       "      <th>1399</th>\n",
       "      <td>ASUS TUF Gaming NVIDIA GeForce RTX 3090 Ti O24...</td>\n",
       "      <td>ASUS</td>\n",
       "      <td>RTX 3090-Ti</td>\n",
       "      <td>1699.99</td>\n",
       "      <td>0.0</td>\n",
       "      <td>0</td>\n",
       "      <td>https://www.newegg.com/asus-geforce-rtx-3090-t...</td>\n",
       "    </tr>\n",
       "    <tr>\n",
       "      <th>1400</th>\n",
       "      <td>ASUS TUF Gaming GeForce RTX 3090 Ti 24GB GDDR6...</td>\n",
       "      <td>ASUS</td>\n",
       "      <td>RTX 3090-Ti</td>\n",
       "      <td>1449.99</td>\n",
       "      <td>4.7</td>\n",
       "      <td>34</td>\n",
       "      <td>https://www.newegg.com/asus-geforce-rtx-3090-t...</td>\n",
       "    </tr>\n",
       "    <tr>\n",
       "      <th>1401</th>\n",
       "      <td>ASUS ROG STRIX GeForce RTX 3090 Ti 24GB GDDR6X...</td>\n",
       "      <td>ASUS</td>\n",
       "      <td>RTX 3090-Ti</td>\n",
       "      <td>1149.99</td>\n",
       "      <td>5.0</td>\n",
       "      <td>16</td>\n",
       "      <td>https://www.newegg.com/asus-geforce-rtx-3090-t...</td>\n",
       "    </tr>\n",
       "  </tbody>\n",
       "</table>\n",
       "<p>1402 rows × 7 columns</p>\n",
       "</div>"
      ],
      "text/plain": [
       "                                                   name   company  \\\n",
       "0     GIGABYTE GeForce RTX 3050 GAMING OC 8G Graphic...  GIGABYTE   \n",
       "1     MSI Ventus GeForce RTX 3050 8GB GDDR6 PCI Expr...       MSI   \n",
       "2     MSI Gaming GeForce RTX 3050 8GB GDDR6 PCI Expr...       MSI   \n",
       "3     MSI GeForce RTX 3050 8GB GDDR6 PCI Express 4.0...       MSI   \n",
       "4     GIGABYTE GeForce RTX 3050 EAGLE OC 8G Graphics...  GIGABYTE   \n",
       "...                                                 ...       ...   \n",
       "1397  GIGABYTE Gaming GeForce RTX 3090 Ti 24GB GDDR6...  GIGABYTE   \n",
       "1398  ASUS TUF Gaming NVIDIA GeForce RTX 3090 Ti OC ...      ASUS   \n",
       "1399  ASUS TUF Gaming NVIDIA GeForce RTX 3090 Ti O24...      ASUS   \n",
       "1400  ASUS TUF Gaming GeForce RTX 3090 Ti 24GB GDDR6...      ASUS   \n",
       "1401  ASUS ROG STRIX GeForce RTX 3090 Ti 24GB GDDR6X...      ASUS   \n",
       "\n",
       "            model    price  rating  review  \\\n",
       "0        RTX 3050   299.99     4.8      88   \n",
       "1        RTX 3050   289.99     4.8     101   \n",
       "2        RTX 3050   329.99     4.8      39   \n",
       "3        RTX 3050   318.38     5.0       1   \n",
       "4        RTX 3050   318.00     4.9      22   \n",
       "...           ...      ...     ...     ...   \n",
       "1397  RTX 3090-Ti  1999.99     0.0       0   \n",
       "1398  RTX 3090-Ti  1699.99     0.0       0   \n",
       "1399  RTX 3090-Ti  1699.99     0.0       0   \n",
       "1400  RTX 3090-Ti  1449.99     4.7      34   \n",
       "1401  RTX 3090-Ti  1149.99     5.0      16   \n",
       "\n",
       "                                                   link  \n",
       "0     https://www.newegg.com/gigabyte-geforce-rtx-30...  \n",
       "1     https://www.newegg.com/msi-geforce-rtx-3050-rt...  \n",
       "2     https://www.newegg.com/msi-geforce-rtx-3050-rt...  \n",
       "3     https://www.newegg.com/msi-geforce-rtx-3050-rt...  \n",
       "4     https://www.newegg.com/gigabyte-geforce-rtx-30...  \n",
       "...                                                 ...  \n",
       "1397  https://www.newegg.com/gigabyte-geforce-rtx-30...  \n",
       "1398  https://www.newegg.com/asus-tuf-rtx3090ti-o24g...  \n",
       "1399  https://www.newegg.com/asus-geforce-rtx-3090-t...  \n",
       "1400  https://www.newegg.com/asus-geforce-rtx-3090-t...  \n",
       "1401  https://www.newegg.com/asus-geforce-rtx-3090-t...  \n",
       "\n",
       "[1402 rows x 7 columns]"
      ]
     },
     "execution_count": 12,
     "metadata": {},
     "output_type": "execute_result"
    }
   ],
   "source": [
    "df"
   ]
  },
  {
   "cell_type": "markdown",
   "metadata": {},
   "source": [
    "##### **<span style=\"color:green\">Part 2</span>:** Create DataFrame of GPU Performance and MSRP\n",
    "\n",
    ">Create a dataframe that holds the GPU name, performance (benchmark score by UserBenchmarks), and MSRP. Information can be obtained from UserBenchmark website."
   ]
  },
  {
   "cell_type": "markdown",
   "metadata": {},
   "source": [
    "<span style=\"color:green\">Step 1</span>: Import CSV file of GPU information from UserBenchmarks website. This CSV file has all GPUs ever existed and includes information not useful for this EDA.\n",
    "\n",
    "* Standard Comparison: Nvidia RTX 2060S ≈ 100%."
   ]
  },
  {
   "cell_type": "code",
   "execution_count": 13,
   "metadata": {},
   "outputs": [],
   "source": [
    "gpu_info = pd.read_csv('/Users/yhc/Documents/Coding/EDA/DataAnalyst/GPU_UserBenchmarks.csv', header=0,)"
   ]
  },
  {
   "cell_type": "markdown",
   "metadata": {},
   "source": [
    "<span style=\"color:green\">Step 2</span>: Clean the data from this csv to only include the 30 series RTX GPUs."
   ]
  },
  {
   "cell_type": "code",
   "execution_count": 37,
   "metadata": {},
   "outputs": [
    {
     "name": "stderr",
     "output_type": "stream",
     "text": [
      "/var/folders/v1/__td9czx4ts4dt0pmkkw0sdh0000gn/T/ipykernel_65824/2900665479.py:5: SettingWithCopyWarning: \n",
      "A value is trying to be set on a copy of a slice from a DataFrame\n",
      "\n",
      "See the caveats in the documentation: https://pandas.pydata.org/pandas-docs/stable/user_guide/indexing.html#returning-a-view-versus-a-copy\n",
      "  rtx30.drop(labels=56, axis=0, inplace=True)\n",
      "/var/folders/v1/__td9czx4ts4dt0pmkkw0sdh0000gn/T/ipykernel_65824/2900665479.py:8: SettingWithCopyWarning: \n",
      "A value is trying to be set on a copy of a slice from a DataFrame\n",
      "\n",
      "See the caveats in the documentation: https://pandas.pydata.org/pandas-docs/stable/user_guide/indexing.html#returning-a-view-versus-a-copy\n",
      "  rtx30.drop(labels = ['Brand', 'Type', 'Part Number', 'Rank', 'URL'], axis=1, inplace=True)\n"
     ]
    }
   ],
   "source": [
    "# Select all the 30 series Nvidia GPU in the dataset\n",
    "rtx30 = gpu_info[(gpu_info['Model'].str.contains('RTX 30')) & (gpu_info['Brand'] == 'Nvidia') & (~gpu_info['Model'].str.contains('Laptop'))]\n",
    "\n",
    "# Drop the row that is wrong\n",
    "rtx30.drop(labels=56, axis=0, inplace=True)\n",
    "\n",
    "# Drop unnecessary columns\n",
    "rtx30.drop(labels = ['Brand', 'Type', 'Part Number', 'Rank', 'URL'], axis=1, inplace=True)\n",
    "\n",
    "# Change the column name case to lower\n",
    "rtx30.columns = rtx30.columns.str.lower()\n",
    "\n",
    "# Reset the index\n",
    "rtx30.reset_index(drop=True, inplace=True)\n"
   ]
  },
  {
   "cell_type": "markdown",
   "metadata": {},
   "source": [
    "<span style=\"color:green\">Step 3</span>: Add MSRP price data for each GPU."
   ]
  },
  {
   "cell_type": "code",
   "execution_count": 38,
   "metadata": {},
   "outputs": [],
   "source": [
    "# MSRP of each GPU at launch\n",
    "msrp = [2000.00, 1500.00, 1200.00, 750.00, 600.00, 500.00, 400.00, 330.00, 250.00]\n",
    "\n",
    "# Insert a new column for 'msrp' in rtx30\n",
    "rtx30.insert(loc=3, column='msrp', value = msrp)"
   ]
  },
  {
   "cell_type": "code",
   "execution_count": 16,
   "metadata": {},
   "outputs": [
    {
     "data": {
      "text/html": [
       "<div>\n",
       "<style scoped>\n",
       "    .dataframe tbody tr th:only-of-type {\n",
       "        vertical-align: middle;\n",
       "    }\n",
       "\n",
       "    .dataframe tbody tr th {\n",
       "        vertical-align: top;\n",
       "    }\n",
       "\n",
       "    .dataframe thead th {\n",
       "        text-align: right;\n",
       "    }\n",
       "</style>\n",
       "<table border=\"1\" class=\"dataframe\">\n",
       "  <thead>\n",
       "    <tr style=\"text-align: right;\">\n",
       "      <th></th>\n",
       "      <th>model</th>\n",
       "      <th>benchmark</th>\n",
       "      <th>samples</th>\n",
       "      <th>msrp</th>\n",
       "    </tr>\n",
       "  </thead>\n",
       "  <tbody>\n",
       "    <tr>\n",
       "      <th>0</th>\n",
       "      <td>RTX 3090-Ti</td>\n",
       "      <td>266.0</td>\n",
       "      <td>12073</td>\n",
       "      <td>2000.0</td>\n",
       "    </tr>\n",
       "    <tr>\n",
       "      <th>1</th>\n",
       "      <td>RTX 3090</td>\n",
       "      <td>233.0</td>\n",
       "      <td>125683</td>\n",
       "      <td>1500.0</td>\n",
       "    </tr>\n",
       "    <tr>\n",
       "      <th>2</th>\n",
       "      <td>RTX 3080-Ti</td>\n",
       "      <td>230.0</td>\n",
       "      <td>139549</td>\n",
       "      <td>1200.0</td>\n",
       "    </tr>\n",
       "    <tr>\n",
       "      <th>3</th>\n",
       "      <td>RTX 3080</td>\n",
       "      <td>206.0</td>\n",
       "      <td>353788</td>\n",
       "      <td>750.0</td>\n",
       "    </tr>\n",
       "    <tr>\n",
       "      <th>4</th>\n",
       "      <td>RTX 3070-Ti</td>\n",
       "      <td>167.0</td>\n",
       "      <td>142865</td>\n",
       "      <td>600.0</td>\n",
       "    </tr>\n",
       "    <tr>\n",
       "      <th>5</th>\n",
       "      <td>RTX 3070</td>\n",
       "      <td>154.0</td>\n",
       "      <td>447840</td>\n",
       "      <td>500.0</td>\n",
       "    </tr>\n",
       "    <tr>\n",
       "      <th>6</th>\n",
       "      <td>RTX 3060-Ti</td>\n",
       "      <td>132.0</td>\n",
       "      <td>257683</td>\n",
       "      <td>400.0</td>\n",
       "    </tr>\n",
       "    <tr>\n",
       "      <th>7</th>\n",
       "      <td>RTX 3060</td>\n",
       "      <td>98.3</td>\n",
       "      <td>232735</td>\n",
       "      <td>330.0</td>\n",
       "    </tr>\n",
       "    <tr>\n",
       "      <th>8</th>\n",
       "      <td>RTX 3050</td>\n",
       "      <td>71.7</td>\n",
       "      <td>26735</td>\n",
       "      <td>250.0</td>\n",
       "    </tr>\n",
       "  </tbody>\n",
       "</table>\n",
       "</div>"
      ],
      "text/plain": [
       "         model  benchmark  samples    msrp\n",
       "0  RTX 3090-Ti      266.0    12073  2000.0\n",
       "1     RTX 3090      233.0   125683  1500.0\n",
       "2  RTX 3080-Ti      230.0   139549  1200.0\n",
       "3     RTX 3080      206.0   353788   750.0\n",
       "4  RTX 3070-Ti      167.0   142865   600.0\n",
       "5     RTX 3070      154.0   447840   500.0\n",
       "6  RTX 3060-Ti      132.0   257683   400.0\n",
       "7     RTX 3060       98.3   232735   330.0\n",
       "8     RTX 3050       71.7    26735   250.0"
      ]
     },
     "execution_count": 16,
     "metadata": {},
     "output_type": "execute_result"
    }
   ],
   "source": [
    "rtx30"
   ]
  },
  {
   "cell_type": "markdown",
   "metadata": {},
   "source": [
    "####  <ins>**G. Exploratory Data Analysis**</ins>\n",
    "This section will include all of the exploratory data analysis for this project. All of the DataFrames for each GPU will be created and the analysis of each product will be conducted with the support of data visualizations at the end."
   ]
  },
  {
   "cell_type": "markdown",
   "metadata": {},
   "source": [
    "##### **<span style=\"color:#5DADE2\">Analysis 1</span>:** Best GPU for Value\n",
    "\n",
    ">The prices for GPUs have been inflated by large amount because of cryptocurrency scalpers. However, prices have been dropping more and more and almost has reached MSRP. Compare the current GPU prices to launch MSRP and see which graphics card is most worth for value. "
   ]
  },
  {
   "cell_type": "markdown",
   "metadata": {},
   "source": [
    "<span style=\"color:green\">Step 1</span>: Group df by GPU 'model' and plot a boxplot to represent the outliers."
   ]
  },
  {
   "cell_type": "code",
   "execution_count": 17,
   "metadata": {},
   "outputs": [
    {
     "data": {
      "image/png": "[encoded data removed]",
      "text/plain": [
       "<Figure size 640x480 with 1 Axes>"
      ]
     },
     "metadata": {},
     "output_type": "display_data"
    }
   ],
   "source": [
    "# Group the data by the model type and create a list of all the prices within each group\n",
    "g = df.groupby('model')['price'].apply(list)\n",
    "\n",
    "# Create a boxplot of the prices to show outliers\n",
    "plot = plt.boxplot(g, labels = g.keys())\n",
    "plt.xticks(rotation=-45)\n",
    "plt.ylabel('Price ($)')\n",
    "plt.show()"
   ]
  },
  {
   "cell_type": "markdown",
   "metadata": {},
   "source": [
    "<span style=\"color:green\">Step 2</span>: Obtain the Lower and Upper bound of useable data given the boxplot above. \n",
    "* This is to remove any outliers in the data and find a more accurate average price."
   ]
  },
  {
   "cell_type": "code",
   "execution_count": 57,
   "metadata": {},
   "outputs": [],
   "source": [
    "# Find the 1st Quartile for each GPU price\n",
    "q1 = [round(min(item.get_ydata()), 1) for item in plot['boxes']]\n",
    "# Find the 3rd Quartile for each GPU price\n",
    "q3 = [round(max(item.get_ydata()), 1) for item in plot['boxes']]\n",
    "# Find the Minimum price given the boxplot for each GPU\n",
    "minimums = [round(item.get_ydata()[0], 1) for item in plot['caps']][::2]\n",
    "# Find the Maximum price given the boxplot for each GPU\n",
    "maximums = [round(item.get_ydata()[0], 1) for item in plot['caps']][1::2]\n",
    "\n",
    "# Initialize an array to hold the lower and upper boundary value for each GPU\n",
    "lower_out_bound = []\n",
    "higher_out_bound = []\n",
    "\n",
    "# Counter\n",
    "i = 0\n",
    "\n",
    "# Traverse through the outliers from the boxplot\n",
    "for item in plot['fliers']:\n",
    "    # Temporary array to hold the lower and upper boundary value\n",
    "    item_lower = []\n",
    "    item_higher = []\n",
    "    \n",
    "    # Iterate through each outlier list and distinguish whether they are lower or upper outliers\n",
    "    for outlier in item.get_ydata():\n",
    "        # Lower outliers\n",
    "        if outlier < q1[i]:\n",
    "            item_lower.append(outlier)\n",
    "            item_higher.append(maximums[i]+1)\n",
    "\n",
    "        # Upper outliers\n",
    "        else:\n",
    "            item_higher.append(outlier)\n",
    "            item_lower.append(0)\n",
    "\n",
    "    # Assign the maximum of the lower outliers to the lower_boundary\n",
    "    lower_out_bound.append(max(item_lower))\n",
    "    # Assign the minimum of the upper outliers to the higher_boundary\n",
    "    higher_out_bound.append(min(item_higher))\n",
    "\n",
    "    # Increment the counter by 1\n",
    "    i = i + 1"
   ]
  },
  {
   "cell_type": "markdown",
   "metadata": {},
   "source": [
    "<span style=\"color:green\">Step 3</span>: Remove the outliers with the boundaries and create a list of average price of each GPU model."
   ]
  },
  {
   "cell_type": "code",
   "execution_count": 54,
   "metadata": {},
   "outputs": [],
   "source": [
    "# Initialize an array to hold the average prices\n",
    "p_mean = []\n",
    "\n",
    "# Iterate through the GPU prices and remove the outliers\n",
    "for i in range(len(g)):\n",
    "    # Create a list of values between low and up boundaries\n",
    "    p = np.array(list(filter(lambda x: x>lower_out_bound[i] and x<higher_out_bound[i], sorted(g[i]))))\n",
    "    p_mean.append(p.mean())\n",
    "\n",
    "# Sort the array in reverse order to fit the data of rtx30\n",
    "p_mean.sort(reverse=True)\n"
   ]
  },
  {
   "cell_type": "code",
   "execution_count": 58,
   "metadata": {},
   "outputs": [
    {
     "data": {
      "text/html": [
       "<div>\n",
       "<style scoped>\n",
       "    .dataframe tbody tr th:only-of-type {\n",
       "        vertical-align: middle;\n",
       "    }\n",
       "\n",
       "    .dataframe tbody tr th {\n",
       "        vertical-align: top;\n",
       "    }\n",
       "\n",
       "    .dataframe thead th {\n",
       "        text-align: right;\n",
       "    }\n",
       "</style>\n",
       "<table border=\"1\" class=\"dataframe\">\n",
       "  <thead>\n",
       "    <tr style=\"text-align: right;\">\n",
       "      <th></th>\n",
       "      <th>model</th>\n",
       "      <th>benchmark</th>\n",
       "      <th>samples</th>\n",
       "      <th>msrp</th>\n",
       "      <th>avg_price</th>\n",
       "    </tr>\n",
       "  </thead>\n",
       "  <tbody>\n",
       "    <tr>\n",
       "      <th>0</th>\n",
       "      <td>RTX 3090-Ti</td>\n",
       "      <td>266.0</td>\n",
       "      <td>12073</td>\n",
       "      <td>2000.0</td>\n",
       "      <td>2177.053125</td>\n",
       "    </tr>\n",
       "    <tr>\n",
       "      <th>1</th>\n",
       "      <td>RTX 3090</td>\n",
       "      <td>233.0</td>\n",
       "      <td>125683</td>\n",
       "      <td>1500.0</td>\n",
       "      <td>1802.072279</td>\n",
       "    </tr>\n",
       "    <tr>\n",
       "      <th>2</th>\n",
       "      <td>RTX 3080-Ti</td>\n",
       "      <td>230.0</td>\n",
       "      <td>139549</td>\n",
       "      <td>1200.0</td>\n",
       "      <td>1450.460096</td>\n",
       "    </tr>\n",
       "    <tr>\n",
       "      <th>3</th>\n",
       "      <td>RTX 3080</td>\n",
       "      <td>206.0</td>\n",
       "      <td>353788</td>\n",
       "      <td>750.0</td>\n",
       "      <td>1136.528069</td>\n",
       "    </tr>\n",
       "    <tr>\n",
       "      <th>4</th>\n",
       "      <td>RTX 3070-Ti</td>\n",
       "      <td>167.0</td>\n",
       "      <td>142865</td>\n",
       "      <td>600.0</td>\n",
       "      <td>825.603929</td>\n",
       "    </tr>\n",
       "    <tr>\n",
       "      <th>5</th>\n",
       "      <td>RTX 3070</td>\n",
       "      <td>154.0</td>\n",
       "      <td>447840</td>\n",
       "      <td>500.0</td>\n",
       "      <td>685.757841</td>\n",
       "    </tr>\n",
       "    <tr>\n",
       "      <th>6</th>\n",
       "      <td>RTX 3060-Ti</td>\n",
       "      <td>132.0</td>\n",
       "      <td>257683</td>\n",
       "      <td>400.0</td>\n",
       "      <td>550.685419</td>\n",
       "    </tr>\n",
       "    <tr>\n",
       "      <th>7</th>\n",
       "      <td>RTX 3060</td>\n",
       "      <td>98.3</td>\n",
       "      <td>232735</td>\n",
       "      <td>330.0</td>\n",
       "      <td>472.112600</td>\n",
       "    </tr>\n",
       "    <tr>\n",
       "      <th>8</th>\n",
       "      <td>RTX 3050</td>\n",
       "      <td>71.7</td>\n",
       "      <td>26735</td>\n",
       "      <td>250.0</td>\n",
       "      <td>399.448873</td>\n",
       "    </tr>\n",
       "  </tbody>\n",
       "</table>\n",
       "</div>"
      ],
      "text/plain": [
       "         model  benchmark  samples    msrp    avg_price\n",
       "0  RTX 3090-Ti      266.0    12073  2000.0  2177.053125\n",
       "1     RTX 3090      233.0   125683  1500.0  1802.072279\n",
       "2  RTX 3080-Ti      230.0   139549  1200.0  1450.460096\n",
       "3     RTX 3080      206.0   353788   750.0  1136.528069\n",
       "4  RTX 3070-Ti      167.0   142865   600.0   825.603929\n",
       "5     RTX 3070      154.0   447840   500.0   685.757841\n",
       "6  RTX 3060-Ti      132.0   257683   400.0   550.685419\n",
       "7     RTX 3060       98.3   232735   330.0   472.112600\n",
       "8     RTX 3050       71.7    26735   250.0   399.448873"
      ]
     },
     "execution_count": 58,
     "metadata": {},
     "output_type": "execute_result"
    }
   ],
   "source": [
    "comp_gpu = rtx30.copy()\n",
    "comp_gpu.insert(loc=4, column='avg_price', value=p_mean)\n",
    "comp_gpu"
   ]
  },
  {
   "cell_type": "markdown",
   "metadata": {},
   "source": []
  }
 ],
 "metadata": {
  "kernelspec": {
   "display_name": "Python 3 (ipykernel)",
   "language": "python",
   "name": "python3"
  },
  "language_info": {
   "codemirror_mode": {
    "name": "ipython",
    "version": 3
   },
   "file_extension": ".py",
   "mimetype": "text/x-python",
   "name": "python",
   "nbconvert_exporter": "python",
   "pygments_lexer": "ipython3",
   "version": "3.10.8"
  },
  "vscode": {
   "interpreter": {
    "hash": "b0fa6594d8f4cbf19f97940f81e996739fb7646882a419484c72d19e05852a7e"
   }
  }
 },
 "nbformat": 4,
 "nbformat_minor": 2
}
