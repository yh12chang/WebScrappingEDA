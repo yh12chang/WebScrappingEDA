{
 "cells": [
  {
   "cell_type": "markdown",
   "metadata": {},
   "source": [
    "# **GPU Market of NVIDIA Graphics Cards on Newegg**\n",
    "#### *Exploratory Data Analysis Project & Web Scrapping*\n",
    "###### Analysis by: YongHun Chang\n",
    "\n",
    ">**<span style=\"color:maroon\">Goal</span>:**\n",
    ">\n",
    ">Purpose of this EDA is to utilize python packages such as *BeautifulSoup4*, *requests*, and *pandas*. This EDA will look at the current graphics processing unit (GPU) market of the Nvidia cards provided by the platform of Newegg. Data for each GPU will be retrieved using Web Scrapping through python packages: *BeautifulSoup4*, *requests*. Prices of each card and model will be compared to the initial release MSRP, along with performance ratings and possible recommendations for which GPU is worth the most value at this moment."
   ]
  },
  {
   "cell_type": "code",
   "execution_count": 14,
   "metadata": {},
   "outputs": [],
   "source": [
    "# All of the packages to import\n",
    "from bs4 import BeautifulSoup\n",
    "import pandas as pd\n",
    "import numpy as np\n",
    "import requests\n",
    "import re\n",
    "import matplotlib.pyplot as plt\n",
    "import matplotlib.colors as mcolors"
   ]
  },
  {
   "cell_type": "markdown",
   "metadata": {},
   "source": [
    "####  <ins>**A. Web Scrapping for Single Page**</ins>\n",
    ">This first section is used to help familiarize myself with using *BeautifulSoup4* and *requests*. This section will retrieve the GPU data of a single page product listing. The data will then be placed into a dictionary, which later will be converted into a *pandas* DataFrame."
   ]
  },
  {
   "cell_type": "markdown",
   "metadata": {},
   "source": [
    "<span style=\"color:green\">Step 1</span>: Import all of the packages that will be needed for this project and initialize necessary variables."
   ]
  },
  {
   "cell_type": "code",
   "execution_count": 3,
   "metadata": {},
   "outputs": [],
   "source": [
    "# Constructor for GPU attributes\n",
    "gpu_info = {}\n",
    "fixed_names = []\n",
    "fixed_prices = []\n",
    "fixed_ratings = []\n",
    "fixed_reviews = []\n",
    "product_link = []"
   ]
  },
  {
   "cell_type": "markdown",
   "metadata": {},
   "source": [
    "<span style=\"color:green\">Step 2</span>: Use *BeautifulSoup* and *requests* to retrieve the page of GPU. (Test with RTX 3050 cards)"
   ]
  },
  {
   "cell_type": "code",
   "execution_count": 4,
   "metadata": {},
   "outputs": [],
   "source": [
    "# Request webpage and retrieve the html of the page\n",
    "url = \"https://www.newegg.com/p/pl?ComboBundle=true&N=100007709&d=rtx+3050&isdeptsrh=1\"    # RTX 3050 card link\n",
    "web = requests.get(url).text\n",
    "doc = BeautifulSoup(web, \"html.parser\")"
   ]
  },
  {
   "cell_type": "markdown",
   "metadata": {},
   "source": [
    "<span style=\"color:green\">Step 3</span>: Find the specific HTML attribute that holds each product listing."
   ]
  },
  {
   "cell_type": "code",
   "execution_count": 5,
   "metadata": {},
   "outputs": [],
   "source": [
    "# Find all items with the class item-container to find each GPU listed\n",
    "items = doc.find_all('div', class_=\"item-container\")"
   ]
  },
  {
   "cell_type": "markdown",
   "metadata": {},
   "source": [
    "<span style=\"color:green\">Step 4</span>: For each product listed, find the *Name*, *Price*, *Rating*, *Num of Reviews*, and *Product Link*."
   ]
  },
  {
   "cell_type": "code",
   "execution_count": 6,
   "metadata": {},
   "outputs": [],
   "source": [
    "# Traverse through all the items on the website to find the NAME and PRICE\n",
    "for i in items:\n",
    "    # n=name p=price and this step gets the components with NAME and PRICE from the previous selected items\n",
    "    info, p = i.contents[1:3]\n",
    "    # Find the specific html component that holds the item NAME\n",
    "    name = info.find(class_=\"item-title\")\n",
    "    # Find the specific html component that holds the item PRICE\n",
    "    price = p.find('li', class_=\"price-current\")\n",
    "    # Make sure that all items exist and the values are not NONE\n",
    "    if name != None and price != None and price.strong != None and price.sup != None:\n",
    "\n",
    "        # Append the NAME as a string into an array\n",
    "        fixed_names.append(name.string)\n",
    "\n",
    "        # Append the product LINK as a string\n",
    "        product_link.append(name['href'])\n",
    "\n",
    "        # Append the PRICE as a float into an array\n",
    "        fixed_prices.append(float(price.strong.string.replace(',','') + price.sup.string))\n",
    "\n",
    "            # Ratings and reviews are taken after the items are filtered through available GPU's at the moment\n",
    "        # Retrieve customer ratings of GPU\n",
    "        rating = info.find(class_=\"item-rating\")\n",
    "        # If there are no reviews, assign 0\n",
    "        if rating == None:\n",
    "            fixed_ratings.append(0)\n",
    "        # If there are reviews, assign out of 5\n",
    "        if rating != None:\n",
    "            rate = rating.find('i')\n",
    "            r = rate['aria-label'].split()\n",
    "            fixed_ratings.append(float(r[1]))\n",
    "\n",
    "        # Retrieve number of reviews of GPU\n",
    "        review = info.find(class_=\"item-rating-num\")\n",
    "        # If there are no reviews, assign 0\n",
    "        if review == None:\n",
    "            fixed_reviews.append(0)\n",
    "        # If there are review, assign number of reviews\n",
    "        if review != None:\n",
    "            r = review.string.replace('(', '').replace(')','')\n",
    "            fixed_reviews.append(int(r))"
   ]
  },
  {
   "cell_type": "markdown",
   "metadata": {},
   "source": [
    "><span style=\"color:red\">Check</span>: Print the first element of each array to check information."
   ]
  },
  {
   "cell_type": "code",
   "execution_count": 7,
   "metadata": {},
   "outputs": [
    {
     "name": "stdout",
     "output_type": "stream",
     "text": [
      "GIGABYTE GeForce RTX 3050 GAMING OC 8G Graphics Card, 3x WINDFORCE Fans, 8GB GDDR6 128-bit GDDR6, GV-N3050GAMING OC-8GD Video Card\n",
      "299.99\n",
      "4.8\n",
      "90\n",
      "https://www.newegg.com/gigabyte-geforce-rtx-3050-gv-n3050gaming-oc-8gd/p/N82E16814932496?Description=rtx 3050&cm_re=rtx_3050-_-14-932-496-_-Product\n"
     ]
    }
   ],
   "source": [
    "print(fixed_names[0])\n",
    "print(fixed_prices[0])\n",
    "print(fixed_ratings[0])\n",
    "print(fixed_reviews[0])\n",
    "print(product_link[0])"
   ]
  },
  {
   "cell_type": "markdown",
   "metadata": {},
   "source": [
    "<span style=\"color:green\">Step 5</span>: Add each arrray to a dictionary with correct identifiers (keys)."
   ]
  },
  {
   "cell_type": "code",
   "execution_count": 8,
   "metadata": {},
   "outputs": [],
   "source": [
    "# Assign values to dictionary created above\n",
    "gpu_info['name'] = fixed_names\n",
    "gpu_info['price'] = fixed_prices\n",
    "gpu_info['rating'] = fixed_ratings\n",
    "gpu_info['review'] = fixed_reviews\n",
    "gpu_info['link'] = product_link"
   ]
  },
  {
   "cell_type": "markdown",
   "metadata": {},
   "source": [
    "<span style=\"color:green\">Step 6</span>: Create a *pandas* DataFrame using the dictionary created. Print the dataframe."
   ]
  },
  {
   "cell_type": "code",
   "execution_count": 9,
   "metadata": {},
   "outputs": [
    {
     "data": {
      "text/html": [
       "<div>\n",
       "<style scoped>\n",
       "    .dataframe tbody tr th:only-of-type {\n",
       "        vertical-align: middle;\n",
       "    }\n",
       "\n",
       "    .dataframe tbody tr th {\n",
       "        vertical-align: top;\n",
       "    }\n",
       "\n",
       "    .dataframe thead th {\n",
       "        text-align: right;\n",
       "    }\n",
       "</style>\n",
       "<table border=\"1\" class=\"dataframe\">\n",
       "  <thead>\n",
       "    <tr style=\"text-align: right;\">\n",
       "      <th></th>\n",
       "      <th>name</th>\n",
       "      <th>price</th>\n",
       "      <th>rating</th>\n",
       "      <th>review</th>\n",
       "      <th>link</th>\n",
       "    </tr>\n",
       "  </thead>\n",
       "  <tbody>\n",
       "    <tr>\n",
       "      <th>0</th>\n",
       "      <td>GIGABYTE GeForce RTX 3050 GAMING OC 8G Graphic...</td>\n",
       "      <td>299.99</td>\n",
       "      <td>4.8</td>\n",
       "      <td>90</td>\n",
       "      <td>https://www.newegg.com/gigabyte-geforce-rtx-30...</td>\n",
       "    </tr>\n",
       "    <tr>\n",
       "      <th>1</th>\n",
       "      <td>MSI Ventus GeForce RTX 3050 8GB GDDR6 PCI Expr...</td>\n",
       "      <td>289.99</td>\n",
       "      <td>4.8</td>\n",
       "      <td>101</td>\n",
       "      <td>https://www.newegg.com/msi-geforce-rtx-3050-rt...</td>\n",
       "    </tr>\n",
       "    <tr>\n",
       "      <th>2</th>\n",
       "      <td>GIGABYTE GeForce RTX 3050 EAGLE OC 8G Graphics...</td>\n",
       "      <td>289.99</td>\n",
       "      <td>4.8</td>\n",
       "      <td>23</td>\n",
       "      <td>https://www.newegg.com/gigabyte-geforce-rtx-30...</td>\n",
       "    </tr>\n",
       "    <tr>\n",
       "      <th>3</th>\n",
       "      <td>MSI GeForce RTX 3050 8GB GDDR6 PCI Express 4.0...</td>\n",
       "      <td>289.99</td>\n",
       "      <td>5.0</td>\n",
       "      <td>1</td>\n",
       "      <td>https://www.newegg.com/msi-geforce-rtx-3050-rt...</td>\n",
       "    </tr>\n",
       "    <tr>\n",
       "      <th>4</th>\n",
       "      <td>GIGABYTE AORUS GeForce RTX 3050 ELITE 8G Graph...</td>\n",
       "      <td>349.99</td>\n",
       "      <td>4.0</td>\n",
       "      <td>3</td>\n",
       "      <td>https://www.newegg.com/gigabyte-geforce-rtx-30...</td>\n",
       "    </tr>\n",
       "    <tr>\n",
       "      <th>5</th>\n",
       "      <td>MSI Gaming GeForce RTX 3050 8GB GDDR6 PCI Expr...</td>\n",
       "      <td>329.99</td>\n",
       "      <td>4.9</td>\n",
       "      <td>40</td>\n",
       "      <td>https://www.newegg.com/msi-geforce-rtx-3050-rt...</td>\n",
       "    </tr>\n",
       "    <tr>\n",
       "      <th>6</th>\n",
       "      <td>ASUS ROG Strix GeForce RTX 3050 8GB GDDR6 PCI ...</td>\n",
       "      <td>413.80</td>\n",
       "      <td>4.8</td>\n",
       "      <td>50</td>\n",
       "      <td>https://www.newegg.com/asus-geforce-rtx-3050-r...</td>\n",
       "    </tr>\n",
       "    <tr>\n",
       "      <th>7</th>\n",
       "      <td>GIGABYTE Eagle GeForce RTX 3050 8GB GDDR6 PCI ...</td>\n",
       "      <td>339.99</td>\n",
       "      <td>4.7</td>\n",
       "      <td>3</td>\n",
       "      <td>https://www.newegg.com/gigabyte-geforce-rtx-30...</td>\n",
       "    </tr>\n",
       "    <tr>\n",
       "      <th>8</th>\n",
       "      <td>ZOTAC GAMING GeForce RTX 3050 Twin Edge OC 8GB...</td>\n",
       "      <td>298.00</td>\n",
       "      <td>4.3</td>\n",
       "      <td>12</td>\n",
       "      <td>https://www.newegg.com/zotac-geforce-rtx-3050-...</td>\n",
       "    </tr>\n",
       "    <tr>\n",
       "      <th>9</th>\n",
       "      <td>EVGA GeForce RTX 3050 XC BLACK GAMING Video Ca...</td>\n",
       "      <td>349.99</td>\n",
       "      <td>4.9</td>\n",
       "      <td>12</td>\n",
       "      <td>https://www.newegg.com/evga-geforce-rtx-3050-0...</td>\n",
       "    </tr>\n",
       "    <tr>\n",
       "      <th>10</th>\n",
       "      <td>ASUS Dual GeForce RTX 3050 8GB GDDR6 PCI Expre...</td>\n",
       "      <td>319.99</td>\n",
       "      <td>4.7</td>\n",
       "      <td>60</td>\n",
       "      <td>https://www.newegg.com/asus-geforce-rtx-3050-d...</td>\n",
       "    </tr>\n",
       "    <tr>\n",
       "      <th>11</th>\n",
       "      <td>EVGA GeForce RTX 3050 XC GAMING Video Card, 08...</td>\n",
       "      <td>459.00</td>\n",
       "      <td>4.7</td>\n",
       "      <td>42</td>\n",
       "      <td>https://www.newegg.com/evga-geforce-rtx-3050-0...</td>\n",
       "    </tr>\n",
       "    <tr>\n",
       "      <th>12</th>\n",
       "      <td>PNY XLR8 Gaming GeForce RTX 3050 8GB GDDR6 PCI...</td>\n",
       "      <td>319.99</td>\n",
       "      <td>0.0</td>\n",
       "      <td>0</td>\n",
       "      <td>https://www.newegg.com/pny-geforce-rtx-3050-vc...</td>\n",
       "    </tr>\n",
       "    <tr>\n",
       "      <th>13</th>\n",
       "      <td>New GeForce RTX 3050 Senior General OC 8GB GDD...</td>\n",
       "      <td>303.99</td>\n",
       "      <td>0.0</td>\n",
       "      <td>0</td>\n",
       "      <td>https://www.newegg.com/p/1FT-00J5-00002?Descri...</td>\n",
       "    </tr>\n",
       "    <tr>\n",
       "      <th>14</th>\n",
       "      <td>Gigabyte GeForce RTX 3050 Gaming OC 8G Graphic...</td>\n",
       "      <td>299.99</td>\n",
       "      <td>0.0</td>\n",
       "      <td>0</td>\n",
       "      <td>https://www.newegg.com/gigabyte-3050gaming-oc/...</td>\n",
       "    </tr>\n",
       "    <tr>\n",
       "      <th>15</th>\n",
       "      <td>GALAXY GeForce RTX 3050 Metal Master MINI Vide...</td>\n",
       "      <td>399.99</td>\n",
       "      <td>0.0</td>\n",
       "      <td>0</td>\n",
       "      <td>https://www.newegg.com/galaxy-geforce-rtx-3050...</td>\n",
       "    </tr>\n",
       "    <tr>\n",
       "      <th>16</th>\n",
       "      <td>ASUS TUF Gaming OC Edition GeForce RTX 3050 8G...</td>\n",
       "      <td>349.99</td>\n",
       "      <td>0.0</td>\n",
       "      <td>0</td>\n",
       "      <td>https://www.newegg.com/asus-geforce-rtx-3050-t...</td>\n",
       "    </tr>\n",
       "    <tr>\n",
       "      <th>17</th>\n",
       "      <td>Yeston RTX 3050 8GB GDDR6 LHR Graphics cards N...</td>\n",
       "      <td>309.00</td>\n",
       "      <td>0.0</td>\n",
       "      <td>0</td>\n",
       "      <td>https://www.newegg.com/yeston-geforce-rtx-3060...</td>\n",
       "    </tr>\n",
       "    <tr>\n",
       "      <th>18</th>\n",
       "      <td>AX Gaming New Graphic Card GEFORCE RTX 3050 X2...</td>\n",
       "      <td>297.00</td>\n",
       "      <td>0.0</td>\n",
       "      <td>0</td>\n",
       "      <td>https://www.newegg.com/p/1FT-00J6-00003?Descri...</td>\n",
       "    </tr>\n",
       "    <tr>\n",
       "      <th>19</th>\n",
       "      <td>MAXSUN Nvidia Geforce RTX 3050 iCraft 8GB GDDR...</td>\n",
       "      <td>319.99</td>\n",
       "      <td>0.0</td>\n",
       "      <td>0</td>\n",
       "      <td>https://www.newegg.com/maxsun-rtx-3050/p/1FT-0...</td>\n",
       "    </tr>\n",
       "    <tr>\n",
       "      <th>20</th>\n",
       "      <td>MSI GeForce RTX 3050 VENTUS 2X 8G OC GDDR6 LHR</td>\n",
       "      <td>349.47</td>\n",
       "      <td>0.0</td>\n",
       "      <td>0</td>\n",
       "      <td>https://www.newegg.com/msi-geforce-rtx-3050-ve...</td>\n",
       "    </tr>\n",
       "    <tr>\n",
       "      <th>21</th>\n",
       "      <td>GIGABYTE GV-N3050GAMING OC-8GD GAMING OC GeFor...</td>\n",
       "      <td>244.98</td>\n",
       "      <td>0.0</td>\n",
       "      <td>0</td>\n",
       "      <td>https://www.newegg.com/gigabyte-geforce-rtx-30...</td>\n",
       "    </tr>\n",
       "    <tr>\n",
       "      <th>22</th>\n",
       "      <td>GIGABYTE GeForce RTX 3050 EAGLE OC 8G Video Ca...</td>\n",
       "      <td>339.99</td>\n",
       "      <td>0.0</td>\n",
       "      <td>0</td>\n",
       "      <td>https://www.newegg.com/gigabyte-geforce-rtx-30...</td>\n",
       "    </tr>\n",
       "    <tr>\n",
       "      <th>23</th>\n",
       "      <td>ASUS Phoenix GeForce RTX 3050 8GB GDDR6 PCI Ex...</td>\n",
       "      <td>299.99</td>\n",
       "      <td>4.6</td>\n",
       "      <td>33</td>\n",
       "      <td>https://www.newegg.com/asus-geforce-rtx-3050-p...</td>\n",
       "    </tr>\n",
       "    <tr>\n",
       "      <th>24</th>\n",
       "      <td>iGame GeForce RTX 3050 Ultra W OC 8G GDDR6 128...</td>\n",
       "      <td>549.99</td>\n",
       "      <td>0.0</td>\n",
       "      <td>0</td>\n",
       "      <td>https://www.newegg.com/p/1FT-00DB-000R8?Descri...</td>\n",
       "    </tr>\n",
       "    <tr>\n",
       "      <th>25</th>\n",
       "      <td>ZOTAC GAMING GeForce RTX 3050 AMP 8GB GDDR6 12...</td>\n",
       "      <td>299.99</td>\n",
       "      <td>0.0</td>\n",
       "      <td>0</td>\n",
       "      <td>https://www.newegg.com/zotac-geforce-rtx-3050-...</td>\n",
       "    </tr>\n",
       "    <tr>\n",
       "      <th>26</th>\n",
       "      <td>ASUS ROG Strix GeForce RTX 3050 8GB GDDR6 PCI ...</td>\n",
       "      <td>519.99</td>\n",
       "      <td>0.0</td>\n",
       "      <td>0</td>\n",
       "      <td>https://www.newegg.com/p/1FT-000Y-007E2?Descri...</td>\n",
       "    </tr>\n",
       "    <tr>\n",
       "      <th>27</th>\n",
       "      <td>MSI Gaming GeForce RTX 3050 8GB GDRR6 128-Bit ...</td>\n",
       "      <td>429.99</td>\n",
       "      <td>0.0</td>\n",
       "      <td>0</td>\n",
       "      <td>https://www.newegg.com/p/1FT-0009-00A68?Descri...</td>\n",
       "    </tr>\n",
       "    <tr>\n",
       "      <th>28</th>\n",
       "      <td>GIGABYTE GeForce RTX 3050 EAGLE OC 8G GDDR6 17...</td>\n",
       "      <td>326.99</td>\n",
       "      <td>0.0</td>\n",
       "      <td>0</td>\n",
       "      <td>https://www.newegg.com/gigabyte-geforce-rtx-30...</td>\n",
       "    </tr>\n",
       "    <tr>\n",
       "      <th>29</th>\n",
       "      <td>MSI GeForce RTX 3050 VENTUS 2X 8G Video Card,8...</td>\n",
       "      <td>419.99</td>\n",
       "      <td>0.0</td>\n",
       "      <td>0</td>\n",
       "      <td>https://www.newegg.com/msi-geforce-rtx-3050-ve...</td>\n",
       "    </tr>\n",
       "    <tr>\n",
       "      <th>30</th>\n",
       "      <td>GIGABYTE GeForce RTX 3050 GAMING OC 8G Video C...</td>\n",
       "      <td>378.99</td>\n",
       "      <td>0.0</td>\n",
       "      <td>0</td>\n",
       "      <td>https://www.newegg.com/gigabyte-geforce-rtx-30...</td>\n",
       "    </tr>\n",
       "    <tr>\n",
       "      <th>31</th>\n",
       "      <td>MSI GeForce RTX 3050 GAMING X 8G Video Card,8G...</td>\n",
       "      <td>458.99</td>\n",
       "      <td>0.0</td>\n",
       "      <td>0</td>\n",
       "      <td>https://www.newegg.com/p/1FT-0009-00950?Descri...</td>\n",
       "    </tr>\n",
       "    <tr>\n",
       "      <th>32</th>\n",
       "      <td>ZOTAC GeForce RTX 3050-8GD6 Destroyer PRO HA V...</td>\n",
       "      <td>429.99</td>\n",
       "      <td>0.0</td>\n",
       "      <td>0</td>\n",
       "      <td>https://www.newegg.com/zotac-geforce-rtx-3050-...</td>\n",
       "    </tr>\n",
       "    <tr>\n",
       "      <th>33</th>\n",
       "      <td>GIGABYTE GeForce RTX 3050 GAMING OC 8G GDDR6 1...</td>\n",
       "      <td>409.99</td>\n",
       "      <td>0.0</td>\n",
       "      <td>0</td>\n",
       "      <td>https://www.newegg.com/p/1FT-000A-00415?Descri...</td>\n",
       "    </tr>\n",
       "    <tr>\n",
       "      <th>34</th>\n",
       "      <td>ZOTAC GeForce RTX 3050-8GD6 X-GAMING OC Video ...</td>\n",
       "      <td>449.99</td>\n",
       "      <td>0.0</td>\n",
       "      <td>0</td>\n",
       "      <td>https://www.newegg.com/zotac-geforce-rtx-3050-...</td>\n",
       "    </tr>\n",
       "    <tr>\n",
       "      <th>35</th>\n",
       "      <td>MSI GeForce RTX 3050 GAMING X 8G GDDR6 LHR</td>\n",
       "      <td>305.00</td>\n",
       "      <td>0.0</td>\n",
       "      <td>0</td>\n",
       "      <td>https://www.newegg.com/msi-geforce-rtx-3050-ga...</td>\n",
       "    </tr>\n",
       "  </tbody>\n",
       "</table>\n",
       "</div>"
      ],
      "text/plain": [
       "                                                 name   price  rating  review  \\\n",
       "0   GIGABYTE GeForce RTX 3050 GAMING OC 8G Graphic...  299.99     4.8      90   \n",
       "1   MSI Ventus GeForce RTX 3050 8GB GDDR6 PCI Expr...  289.99     4.8     101   \n",
       "2   GIGABYTE GeForce RTX 3050 EAGLE OC 8G Graphics...  289.99     4.8      23   \n",
       "3   MSI GeForce RTX 3050 8GB GDDR6 PCI Express 4.0...  289.99     5.0       1   \n",
       "4   GIGABYTE AORUS GeForce RTX 3050 ELITE 8G Graph...  349.99     4.0       3   \n",
       "5   MSI Gaming GeForce RTX 3050 8GB GDDR6 PCI Expr...  329.99     4.9      40   \n",
       "6   ASUS ROG Strix GeForce RTX 3050 8GB GDDR6 PCI ...  413.80     4.8      50   \n",
       "7   GIGABYTE Eagle GeForce RTX 3050 8GB GDDR6 PCI ...  339.99     4.7       3   \n",
       "8   ZOTAC GAMING GeForce RTX 3050 Twin Edge OC 8GB...  298.00     4.3      12   \n",
       "9   EVGA GeForce RTX 3050 XC BLACK GAMING Video Ca...  349.99     4.9      12   \n",
       "10  ASUS Dual GeForce RTX 3050 8GB GDDR6 PCI Expre...  319.99     4.7      60   \n",
       "11  EVGA GeForce RTX 3050 XC GAMING Video Card, 08...  459.00     4.7      42   \n",
       "12  PNY XLR8 Gaming GeForce RTX 3050 8GB GDDR6 PCI...  319.99     0.0       0   \n",
       "13  New GeForce RTX 3050 Senior General OC 8GB GDD...  303.99     0.0       0   \n",
       "14  Gigabyte GeForce RTX 3050 Gaming OC 8G Graphic...  299.99     0.0       0   \n",
       "15  GALAXY GeForce RTX 3050 Metal Master MINI Vide...  399.99     0.0       0   \n",
       "16  ASUS TUF Gaming OC Edition GeForce RTX 3050 8G...  349.99     0.0       0   \n",
       "17  Yeston RTX 3050 8GB GDDR6 LHR Graphics cards N...  309.00     0.0       0   \n",
       "18  AX Gaming New Graphic Card GEFORCE RTX 3050 X2...  297.00     0.0       0   \n",
       "19  MAXSUN Nvidia Geforce RTX 3050 iCraft 8GB GDDR...  319.99     0.0       0   \n",
       "20     MSI GeForce RTX 3050 VENTUS 2X 8G OC GDDR6 LHR  349.47     0.0       0   \n",
       "21  GIGABYTE GV-N3050GAMING OC-8GD GAMING OC GeFor...  244.98     0.0       0   \n",
       "22  GIGABYTE GeForce RTX 3050 EAGLE OC 8G Video Ca...  339.99     0.0       0   \n",
       "23  ASUS Phoenix GeForce RTX 3050 8GB GDDR6 PCI Ex...  299.99     4.6      33   \n",
       "24  iGame GeForce RTX 3050 Ultra W OC 8G GDDR6 128...  549.99     0.0       0   \n",
       "25  ZOTAC GAMING GeForce RTX 3050 AMP 8GB GDDR6 12...  299.99     0.0       0   \n",
       "26  ASUS ROG Strix GeForce RTX 3050 8GB GDDR6 PCI ...  519.99     0.0       0   \n",
       "27  MSI Gaming GeForce RTX 3050 8GB GDRR6 128-Bit ...  429.99     0.0       0   \n",
       "28  GIGABYTE GeForce RTX 3050 EAGLE OC 8G GDDR6 17...  326.99     0.0       0   \n",
       "29  MSI GeForce RTX 3050 VENTUS 2X 8G Video Card,8...  419.99     0.0       0   \n",
       "30  GIGABYTE GeForce RTX 3050 GAMING OC 8G Video C...  378.99     0.0       0   \n",
       "31  MSI GeForce RTX 3050 GAMING X 8G Video Card,8G...  458.99     0.0       0   \n",
       "32  ZOTAC GeForce RTX 3050-8GD6 Destroyer PRO HA V...  429.99     0.0       0   \n",
       "33  GIGABYTE GeForce RTX 3050 GAMING OC 8G GDDR6 1...  409.99     0.0       0   \n",
       "34  ZOTAC GeForce RTX 3050-8GD6 X-GAMING OC Video ...  449.99     0.0       0   \n",
       "35         MSI GeForce RTX 3050 GAMING X 8G GDDR6 LHR  305.00     0.0       0   \n",
       "\n",
       "                                                 link  \n",
       "0   https://www.newegg.com/gigabyte-geforce-rtx-30...  \n",
       "1   https://www.newegg.com/msi-geforce-rtx-3050-rt...  \n",
       "2   https://www.newegg.com/gigabyte-geforce-rtx-30...  \n",
       "3   https://www.newegg.com/msi-geforce-rtx-3050-rt...  \n",
       "4   https://www.newegg.com/gigabyte-geforce-rtx-30...  \n",
       "5   https://www.newegg.com/msi-geforce-rtx-3050-rt...  \n",
       "6   https://www.newegg.com/asus-geforce-rtx-3050-r...  \n",
       "7   https://www.newegg.com/gigabyte-geforce-rtx-30...  \n",
       "8   https://www.newegg.com/zotac-geforce-rtx-3050-...  \n",
       "9   https://www.newegg.com/evga-geforce-rtx-3050-0...  \n",
       "10  https://www.newegg.com/asus-geforce-rtx-3050-d...  \n",
       "11  https://www.newegg.com/evga-geforce-rtx-3050-0...  \n",
       "12  https://www.newegg.com/pny-geforce-rtx-3050-vc...  \n",
       "13  https://www.newegg.com/p/1FT-00J5-00002?Descri...  \n",
       "14  https://www.newegg.com/gigabyte-3050gaming-oc/...  \n",
       "15  https://www.newegg.com/galaxy-geforce-rtx-3050...  \n",
       "16  https://www.newegg.com/asus-geforce-rtx-3050-t...  \n",
       "17  https://www.newegg.com/yeston-geforce-rtx-3060...  \n",
       "18  https://www.newegg.com/p/1FT-00J6-00003?Descri...  \n",
       "19  https://www.newegg.com/maxsun-rtx-3050/p/1FT-0...  \n",
       "20  https://www.newegg.com/msi-geforce-rtx-3050-ve...  \n",
       "21  https://www.newegg.com/gigabyte-geforce-rtx-30...  \n",
       "22  https://www.newegg.com/gigabyte-geforce-rtx-30...  \n",
       "23  https://www.newegg.com/asus-geforce-rtx-3050-p...  \n",
       "24  https://www.newegg.com/p/1FT-00DB-000R8?Descri...  \n",
       "25  https://www.newegg.com/zotac-geforce-rtx-3050-...  \n",
       "26  https://www.newegg.com/p/1FT-000Y-007E2?Descri...  \n",
       "27  https://www.newegg.com/p/1FT-0009-00A68?Descri...  \n",
       "28  https://www.newegg.com/gigabyte-geforce-rtx-30...  \n",
       "29  https://www.newegg.com/msi-geforce-rtx-3050-ve...  \n",
       "30  https://www.newegg.com/gigabyte-geforce-rtx-30...  \n",
       "31  https://www.newegg.com/p/1FT-0009-00950?Descri...  \n",
       "32  https://www.newegg.com/zotac-geforce-rtx-3050-...  \n",
       "33  https://www.newegg.com/p/1FT-000A-00415?Descri...  \n",
       "34  https://www.newegg.com/zotac-geforce-rtx-3050-...  \n",
       "35  https://www.newegg.com/msi-geforce-rtx-3050-ga...  "
      ]
     },
     "execution_count": 9,
     "metadata": {},
     "output_type": "execute_result"
    }
   ],
   "source": [
    "df = pd.DataFrame(gpu_info)\n",
    "df"
   ]
  },
  {
   "cell_type": "markdown",
   "metadata": {},
   "source": [
    "####  <ins>**B. Web Scrapping for Multiple Pages**</ins>\n",
    ">Now that the basics of web scrapping was covered, it is important that this operation can occur if there are more than 1 pages for a product listing. For this, there needs to be a way to keep track of how many pages the product lists, and be able to move from one page to another until the operation has traversed through all pages."
   ]
  },
  {
   "cell_type": "markdown",
   "metadata": {},
   "source": [
    "<span style=\"color:green\">Step 1</span>: Using previous web data of RTX 3050, create a *page* variable to keep track of the number of pages the product lists.\n",
    "\n",
    "```python\n",
    "    # Request webpage and retrieve the html of the page\n",
    "    url = \"https://www.newegg.com/p/pl?N=100007709%20601357282&PageSize=96&d=rtx+3050&isdeptsrh=1&ComboBundle=true\"    # RTX 3050 card link\n",
    "    web = requests.get(url).text\n",
    "    doc = BeautifulSoup(web, \"html.parser\")\n",
    "```"
   ]
  },
  {
   "cell_type": "code",
   "execution_count": 10,
   "metadata": {},
   "outputs": [],
   "source": [
    "# Find the number of pages of the GPU are available\n",
    "page_comp = doc.find(class_=\"list-tool-pagination-text\").strong\n",
    "page_num = int(str(page_comp).split(\"/\")[1].split(\">\")[1][0])        # Parse the number of pages to int"
   ]
  },
  {
   "cell_type": "markdown",
   "metadata": {},
   "source": [
    "<span style=\"color:green\">Step 2</span>: The operation needs to run on each of the pages listed. Traverse through the pages of the product posting using a loop."
   ]
  },
  {
   "cell_type": "code",
   "execution_count": 11,
   "metadata": {},
   "outputs": [],
   "source": [
    "# Run the operation on number of pages\n",
    "for page in range(1, page_num + 1):\n",
    "\n",
    "    # Modify URL to access the correct page\n",
    "    # If the current page was the first page, add the page tag at the end of the URL\n",
    "    if url.find(\"&page=\") == False:\n",
    "        url = url + \"&page=\" + str(page)\n",
    "    # If the current page was anything other than the first page, then replace the tag to access the correct page\n",
    "    else :\n",
    "        url = url.split(\"&page=\")[0] + \"&page=\" + str(page)"
   ]
  },
  {
   "cell_type": "markdown",
   "metadata": {},
   "source": [
    "####  <ins>**C. Create a Function to Retrieve Data from Website**</ins>\n",
    ">All the components to find graphics card data have been written. However, it will be redundant to rewrite this code for every GPU being looked at. Instead, it can be easier to create a function that returns a *pandas* DataFrame of the GPU information, given the URL of the GPU."
   ]
  },
  {
   "cell_type": "markdown",
   "metadata": {},
   "source": [
    "<span style=\"color:green\">Step 1</span>: Given all the components for retrieving data of all pages of a product listing, combine all the components to retrieve the GPU data from all pages. Put the combined code into a function so that it can be called on later for different links."
   ]
  },
  {
   "cell_type": "code",
   "execution_count": 12,
   "metadata": {},
   "outputs": [],
   "source": [
    "# Define function for Web Scrapping Newegg\n",
    "def getGPUData(model: str, number: int, var = \"\"):\n",
    "\n",
    "    # Constructor for GPU attributes\n",
    "    gpu_info = {}\n",
    "    fixed_names = []\n",
    "    fixed_prices = []\n",
    "    fixed_ratings = []\n",
    "    fixed_reviews = []\n",
    "    product_link = []\n",
    "    count = 0\n",
    "\n",
    "    # Initializing the URL to fit the user's requested GPU model\n",
    "    if var != \"\":\n",
    "        gpu = model + \"+\" + str(number) + \"+\" + var\n",
    "    else:\n",
    "        gpu = model + \"+\" + str(number)\n",
    "\n",
    "    url = \"https://www.newegg.com/p/pl?N=100007709&d={gpu}&isdeptsrh=1&ComboBundle=true\".format(gpu = gpu)\n",
    "    print(url)\n",
    "\n",
    "    # Request webpage and retrieve the html of the page\n",
    "    web = requests.get(url).text\n",
    "    doc = BeautifulSoup(web, \"html.parser\")\n",
    "\n",
    "    # Find the number of pages of the GPU are available\n",
    "    page_comp = doc.find(class_=\"list-tool-pagination-text\").strong\n",
    "    page_num = int(str(page_comp).split(\"/\")[1].split(\">\")[1][:-1])        # Parse the number of pages to int\n",
    "\n",
    "    # Run the operation on number of pages\n",
    "    for page in range(1, page_num + 1):\n",
    "\n",
    "        # Modify URL to access the correct page\n",
    "        # If the current page was the first page, add the page tag at the end of the URL\n",
    "        if url.find(\"&page=\") == False:\n",
    "            url = url + \"&page=\" + str(page)\n",
    "        # If the current page was anything other than the first page, then replace the tag to access the correct page\n",
    "        else :\n",
    "            url = url.split(\"&page=\")[0] + \"&page=\" + str(page)\n",
    "\n",
    "        # Access the specific page using modified URL\n",
    "        web = requests.get(url).text\n",
    "        doc = BeautifulSoup(web, \"html.parser\")\n",
    "\n",
    "        # Find all items with the class item-container to find each GPU listed\n",
    "        items = doc.find_all('div', class_=\"item-container\")\n",
    "\n",
    "        # Traverse through all the items on the website to find the NAME and PRICE\n",
    "        for i in items:\n",
    "            # n=name p=price and this step gets the components with NAME and PRICE from the previous selected items\n",
    "            info = i.contents[1]\n",
    "            p = i.contents[2]\n",
    "            # Find the specific html component that holds the item NAME\n",
    "            name = info.find(class_=\"item-title\")\n",
    "            # Find the specific html component that holds the item PRICE\n",
    "            price = p.find('li', class_=\"price-current\")\n",
    "            # Make sure that all items exist and the values are not NONE\n",
    "            if name != None and price != None and price.strong != None and price.sup != None:\n",
    "\n",
    "                # Append the NAME as a string into an array\n",
    "                fixed_names.append(name.string)\n",
    "\n",
    "                # Append the product LINK as a string\n",
    "                product_link.append(name['href'])\n",
    "\n",
    "                # Append the PRICE as a float into an array\n",
    "                fixed_prices.append(float(price.strong.string.replace(',','') + price.sup.string))\n",
    "\n",
    "                    # Ratings and reviews are taken after the items are filtered through available GPU's at the moment\n",
    "                # Retrieve customer ratings of GPU\n",
    "                rating = info.find(class_=\"item-rating\")\n",
    "                # If there are no reviews, assign 0\n",
    "                if rating == None:\n",
    "                    fixed_ratings.append(0)\n",
    "                # If there are reviews, assign out of 5\n",
    "                if rating != None:\n",
    "                    rate = rating.find('i')\n",
    "                    r = rate['aria-label'].split()\n",
    "                    fixed_ratings.append(float(r[1]))\n",
    "\n",
    "                # Retrieve number of reviews of GPU\n",
    "                review = info.find(class_=\"item-rating-num\")\n",
    "                # If there are no reviews, assign 0\n",
    "                if review == None:\n",
    "                    fixed_reviews.append(0)\n",
    "                # If there are review, assign number of reviews\n",
    "                if review != None:\n",
    "                    r = review.string.replace('(', '').replace(')','')\n",
    "                    fixed_reviews.append(int(r))\n",
    "\n",
    "                count = count + 1\n",
    "\n",
    "    # Assign values to dictionary created above\n",
    "    gpu_info['name'] = fixed_names\n",
    "    gpu_info['model'] = model.upper() + \" \" + str(number) + var\n",
    "    gpu_info['price'] = fixed_prices\n",
    "    gpu_info['rating'] = fixed_ratings\n",
    "    gpu_info['review'] = fixed_reviews\n",
    "    gpu_info['link'] = product_link\n",
    "\n",
    "    # Print a message saying successful retrieval\n",
    "    print(\"Successfully retrieved \" + str(count) + \" \" + model.upper() + \" \" + str(number) + \" GPUs from Newegg.\")\n",
    "\n",
    "    # Return the dataframe\n",
    "    return(pd.DataFrame(gpu_info))"
   ]
  },
  {
   "cell_type": "markdown",
   "metadata": {},
   "source": [
    "####  <ins>**D. Create all the DataFrames of each GPU**</ins>\n",
    ">This section will be focused on cleaning the data and getting different information required for the analytical process."
   ]
  },
  {
   "cell_type": "markdown",
   "metadata": {},
   "source": [
    "<span style=\"color:green\">Step 1</span>: Retrieve all NVIDIA GPUs that are going to be looked at for this analysis."
   ]
  },
  {
   "cell_type": "code",
   "execution_count": 13,
   "metadata": {},
   "outputs": [
    {
     "name": "stdout",
     "output_type": "stream",
     "text": [
      "https://www.newegg.com/p/pl?N=100007709&d=rtx+3050&isdeptsrh=1&ComboBundle=true\n",
      "Successfully retrieved 72 RTX 3050 GPUs from Newegg.\n",
      "https://www.newegg.com/p/pl?N=100007709&d=rtx+3060&isdeptsrh=1&ComboBundle=true\n",
      "Successfully retrieved 493 RTX 3060 GPUs from Newegg.\n",
      "https://www.newegg.com/p/pl?N=100007709&d=rtx+3070&isdeptsrh=1&ComboBundle=true\n",
      "Successfully retrieved 302 RTX 3070 GPUs from Newegg.\n",
      "https://www.newegg.com/p/pl?N=100007709&d=rtx+3080&isdeptsrh=1&ComboBundle=true\n",
      "Successfully retrieved 354 RTX 3080 GPUs from Newegg.\n",
      "https://www.newegg.com/p/pl?N=100007709&d=rtx+3090&isdeptsrh=1&ComboBundle=true\n",
      "Successfully retrieved 177 RTX 3090 GPUs from Newegg.\n"
     ]
    }
   ],
   "source": [
    "# Use getGPUData() to retrieve nvidia gpu information\n",
    "df_50 = getGPUData(\"rtx\", 3050)\n",
    "df_60 = getGPUData(\"rtx\", 3060)\n",
    "df_70 = getGPUData(\"rtx\", 3070)\n",
    "df_80 = getGPUData(\"rtx\", 3080)\n",
    "df_90 = getGPUData(\"rtx\", 3090)"
   ]
  },
  {
   "cell_type": "markdown",
   "metadata": {},
   "source": [
    "<span style=\"color:green\">Step 2</span>: Separate Base Model and Ti Model\n",
    "\n",
    "* Every graphics card other than the RTX 3050 has a TI variant. These cards perform better than its base model, which means that these cards need to be excluded from the base model dataframe. Another dataframe will be created for these versions of GPU.\n",
    "\n",
    "* Look for any instances where the name of the GPU includes the substring \"Ti\". Add these instances to a new dataframe to keep track of the Ti models. After, create a new dataframe excluding these instances to represent the base model data."
   ]
  },
  {
   "cell_type": "code",
   "execution_count": 15,
   "metadata": {},
   "outputs": [
    {
     "name": "stdout",
     "output_type": "stream",
     "text": [
      "231 GPUs were Ti models.\n"
     ]
    }
   ],
   "source": [
    "# Finds the indices with the substring \"Ti\" in the name of the GPU\n",
    "ti = df_60['name'].str.contains('Ti')\n",
    "\n",
    "# Counts the number of GPU that contained \"Ti\"\n",
    "count = ti.sum()\n",
    "\n",
    "# Copies all the instances WITH the substring \"Ti\" in its name into a new dataframe and resets the index counting\n",
    "rtx3060ti = df_60[ti].reset_index(drop = True)\n",
    "\n",
    "# Copies all the instances WITHOUT the substring \"Ti\" in its name into a new dataframe and resets the index counting\n",
    "rtx3060 = df_60[~ti].reset_index(drop = True)\n",
    "\n",
    "# Print the number of rows removed\n",
    "print(str(count) + \" GPUs were Ti models.\")\n"
   ]
  },
  {
   "cell_type": "markdown",
   "metadata": {},
   "source": [
    "<span style=\"color:green\">Step 3</span>: The above process can be more efficient if it is made into a function. The code below defines a function called categorizeGPU() that takes in a *pandas* DataFrame and returns two new dataframe with and without the Ti graphics cards."
   ]
  },
  {
   "cell_type": "markdown",
   "metadata": {},
   "source": [
    ">**<span style=\"color:blue\">Function</span>:** Divide the DataFrame to Correct GPU Model Types\n",
    ">* Rename the 'model' column to include \"-Ti\" in the name."
   ]
  },
  {
   "cell_type": "code",
   "execution_count": 16,
   "metadata": {},
   "outputs": [],
   "source": [
    "# Create a function to remove all instances of Ti model of GPUs\n",
    "def categorizeGPU(df: pd.DataFrame):\n",
    "    # Finds the indices with the substring \"Ti\" in the name of the GPU\n",
    "    ti = df['name'].str.contains('Ti')\n",
    "    # Counts the number of GPU that contained \"Ti\"\n",
    "    count = ti.sum()\n",
    "    \n",
    "    # If the GPU Dataframe consists of Ti models\n",
    "    if count > 0:\n",
    "        # Copies all the instances WITH the substring \"Ti\" in its name into a new dataframe and resets the index counting\n",
    "        gpu_df_ti = df[ti].reset_index(drop = True)\n",
    "\n",
    "        # Copies all the instances WITHOUT the substring \"Ti\" in its name into a new dataframe and resets the index counting\n",
    "        gpu_df = df[~ti].reset_index(drop = True)\n",
    "\n",
    "        # Edit the model of the GPU to include \"Ti\"\n",
    "        gpu_df_ti['model'] = gpu_df_ti['model'][0] + \"-Ti\"\n",
    "\n",
    "        # Print the number of rows removed\n",
    "        print(str(count) + \" GPUs contained Ti.\")\n",
    "\n",
    "        # Return the new dataframe\n",
    "        return gpu_df_ti, gpu_df\n",
    "    \n",
    "    # If the GPU Dataframe does not consist of Ti models\n",
    "    else :\n",
    "\n",
    "        # Print message saying no GPUs were Ti models.\n",
    "        print(\"No GPUs were Ti models.\")\n",
    "    \n",
    "        # Return the modified original dataframe\n",
    "        return df"
   ]
  },
  {
   "cell_type": "markdown",
   "metadata": {},
   "source": [
    "<span style=\"color:green\">Step 4</span>: Utilize the function created to categorize the data into different GPU models."
   ]
  },
  {
   "cell_type": "code",
   "execution_count": 17,
   "metadata": {},
   "outputs": [
    {
     "name": "stdout",
     "output_type": "stream",
     "text": [
      "No GPUs were Ti models.\n",
      "231 GPUs contained Ti.\n",
      "114 GPUs contained Ti.\n",
      "111 GPUs contained Ti.\n",
      "32 GPUs contained Ti.\n"
     ]
    }
   ],
   "source": [
    "# Utilize removeTi() to remove all the instances of Ti graphics cards\n",
    "rtx3050 = categorizeGPU(df_50)\n",
    "rtx3060ti, rtx3060 = categorizeGPU(df_60)\n",
    "rtx3070ti, rtx3070 = categorizeGPU(df_70)\n",
    "rtx3080ti, rtx3080 = categorizeGPU(df_80)\n",
    "rtx3090ti, rtx3090 = categorizeGPU(df_90)"
   ]
  },
  {
   "cell_type": "markdown",
   "metadata": {},
   "source": [
    "####  <ins>**F. Data Preparation**</ins>\n",
    ">This section will be focused on preparing data into a master dataframe and retrieving gpu launch information."
   ]
  },
  {
   "cell_type": "markdown",
   "metadata": {},
   "source": [
    "##### **<span style=\"color:green\">Part 1</span>:** Create a Master DataFrame of All GPU\n",
    "\n",
    ">With the given dataframes, create a master dataframe that can be accessed later for easier analysis."
   ]
  },
  {
   "cell_type": "markdown",
   "metadata": {},
   "source": [
    "<span style=\"color:green\">Step 1</span>: All of the different GPU dataframes have the same shape and column labels, which means that all of the tables can be joined with pd.concat. This is the same as performing a union."
   ]
  },
  {
   "cell_type": "code",
   "execution_count": 18,
   "metadata": {},
   "outputs": [],
   "source": [
    "#Creating a master dataframe of all GPU information\n",
    "gpu_list = [rtx3050, rtx3060, rtx3060ti, rtx3070, rtx3070ti, rtx3080, rtx3080ti, rtx3090, rtx3090ti]\n",
    "# Concat all the dataframe into one and reorder the index\n",
    "df = pd.concat(gpu_list, ignore_index = True)"
   ]
  },
  {
   "cell_type": "markdown",
   "metadata": {},
   "source": [
    "<span style=\"color:green\">Step 2</span>: Create a separate column to label the company of each GPU manufacturer"
   ]
  },
  {
   "cell_type": "code",
   "execution_count": 19,
   "metadata": {},
   "outputs": [],
   "source": [
    "# Create array to hold company names\n",
    "companies = []\n",
    "\n",
    "# Traverse through the names of each GPU and retrieve company names\n",
    "for val in list(df['name'].items()):\n",
    "    part = val[1].split(\" \")\n",
    "    companies.append(part[0].upper())\n",
    "\n",
    "# Add the new column of company names into the second index of the dataframe\n",
    "df.insert(loc=1, column='company', value=companies)"
   ]
  },
  {
   "cell_type": "code",
   "execution_count": 20,
   "metadata": {},
   "outputs": [
    {
     "data": {
      "text/html": [
       "<div>\n",
       "<style scoped>\n",
       "    .dataframe tbody tr th:only-of-type {\n",
       "        vertical-align: middle;\n",
       "    }\n",
       "\n",
       "    .dataframe tbody tr th {\n",
       "        vertical-align: top;\n",
       "    }\n",
       "\n",
       "    .dataframe thead th {\n",
       "        text-align: right;\n",
       "    }\n",
       "</style>\n",
       "<table border=\"1\" class=\"dataframe\">\n",
       "  <thead>\n",
       "    <tr style=\"text-align: right;\">\n",
       "      <th></th>\n",
       "      <th>name</th>\n",
       "      <th>company</th>\n",
       "      <th>model</th>\n",
       "      <th>price</th>\n",
       "      <th>rating</th>\n",
       "      <th>review</th>\n",
       "      <th>link</th>\n",
       "    </tr>\n",
       "  </thead>\n",
       "  <tbody>\n",
       "    <tr>\n",
       "      <th>0</th>\n",
       "      <td>GIGABYTE GeForce RTX 3050 GAMING OC 8G Graphic...</td>\n",
       "      <td>GIGABYTE</td>\n",
       "      <td>RTX 3050</td>\n",
       "      <td>299.99</td>\n",
       "      <td>4.8</td>\n",
       "      <td>90</td>\n",
       "      <td>https://www.newegg.com/gigabyte-geforce-rtx-30...</td>\n",
       "    </tr>\n",
       "    <tr>\n",
       "      <th>1</th>\n",
       "      <td>MSI Ventus GeForce RTX 3050 8GB GDDR6 PCI Expr...</td>\n",
       "      <td>MSI</td>\n",
       "      <td>RTX 3050</td>\n",
       "      <td>289.99</td>\n",
       "      <td>4.8</td>\n",
       "      <td>101</td>\n",
       "      <td>https://www.newegg.com/msi-geforce-rtx-3050-rt...</td>\n",
       "    </tr>\n",
       "    <tr>\n",
       "      <th>2</th>\n",
       "      <td>GIGABYTE GeForce RTX 3050 EAGLE OC 8G Graphics...</td>\n",
       "      <td>GIGABYTE</td>\n",
       "      <td>RTX 3050</td>\n",
       "      <td>289.99</td>\n",
       "      <td>4.8</td>\n",
       "      <td>23</td>\n",
       "      <td>https://www.newegg.com/gigabyte-geforce-rtx-30...</td>\n",
       "    </tr>\n",
       "    <tr>\n",
       "      <th>3</th>\n",
       "      <td>MSI GeForce RTX 3050 8GB GDDR6 PCI Express 4.0...</td>\n",
       "      <td>MSI</td>\n",
       "      <td>RTX 3050</td>\n",
       "      <td>289.99</td>\n",
       "      <td>5.0</td>\n",
       "      <td>1</td>\n",
       "      <td>https://www.newegg.com/msi-geforce-rtx-3050-rt...</td>\n",
       "    </tr>\n",
       "    <tr>\n",
       "      <th>4</th>\n",
       "      <td>GIGABYTE AORUS GeForce RTX 3050 ELITE 8G Graph...</td>\n",
       "      <td>GIGABYTE</td>\n",
       "      <td>RTX 3050</td>\n",
       "      <td>349.99</td>\n",
       "      <td>4.0</td>\n",
       "      <td>3</td>\n",
       "      <td>https://www.newegg.com/gigabyte-geforce-rtx-30...</td>\n",
       "    </tr>\n",
       "    <tr>\n",
       "      <th>...</th>\n",
       "      <td>...</td>\n",
       "      <td>...</td>\n",
       "      <td>...</td>\n",
       "      <td>...</td>\n",
       "      <td>...</td>\n",
       "      <td>...</td>\n",
       "      <td>...</td>\n",
       "    </tr>\n",
       "    <tr>\n",
       "      <th>1393</th>\n",
       "      <td>GIGABYTE Gaming GeForce RTX 3090 Ti 24GB GDDR6...</td>\n",
       "      <td>GIGABYTE</td>\n",
       "      <td>RTX 3090-Ti</td>\n",
       "      <td>1999.99</td>\n",
       "      <td>0.0</td>\n",
       "      <td>0</td>\n",
       "      <td>https://www.newegg.com/gigabyte-geforce-rtx-30...</td>\n",
       "    </tr>\n",
       "    <tr>\n",
       "      <th>1394</th>\n",
       "      <td>ASUS TUF Gaming NVIDIA GeForce RTX 3090 Ti O24...</td>\n",
       "      <td>ASUS</td>\n",
       "      <td>RTX 3090-Ti</td>\n",
       "      <td>1699.99</td>\n",
       "      <td>0.0</td>\n",
       "      <td>0</td>\n",
       "      <td>https://www.newegg.com/asus-geforce-rtx-3090-t...</td>\n",
       "    </tr>\n",
       "    <tr>\n",
       "      <th>1395</th>\n",
       "      <td>ASUS TUF Gaming NVIDIA GeForce RTX 3090 Ti OC ...</td>\n",
       "      <td>ASUS</td>\n",
       "      <td>RTX 3090-Ti</td>\n",
       "      <td>1699.99</td>\n",
       "      <td>0.0</td>\n",
       "      <td>0</td>\n",
       "      <td>https://www.newegg.com/asus-tuf-rtx3090ti-o24g...</td>\n",
       "    </tr>\n",
       "    <tr>\n",
       "      <th>1396</th>\n",
       "      <td>ASUS ROG STRIX GeForce RTX 3090 Ti 24GB GDDR6X...</td>\n",
       "      <td>ASUS</td>\n",
       "      <td>RTX 3090-Ti</td>\n",
       "      <td>1149.99</td>\n",
       "      <td>5.0</td>\n",
       "      <td>17</td>\n",
       "      <td>https://www.newegg.com/asus-geforce-rtx-3090-t...</td>\n",
       "    </tr>\n",
       "    <tr>\n",
       "      <th>1397</th>\n",
       "      <td>ASUS TUF Gaming GeForce RTX 3090 Ti 24GB GDDR6...</td>\n",
       "      <td>ASUS</td>\n",
       "      <td>RTX 3090-Ti</td>\n",
       "      <td>1449.99</td>\n",
       "      <td>4.7</td>\n",
       "      <td>34</td>\n",
       "      <td>https://www.newegg.com/asus-geforce-rtx-3090-t...</td>\n",
       "    </tr>\n",
       "  </tbody>\n",
       "</table>\n",
       "<p>1398 rows × 7 columns</p>\n",
       "</div>"
      ],
      "text/plain": [
       "                                                   name   company  \\\n",
       "0     GIGABYTE GeForce RTX 3050 GAMING OC 8G Graphic...  GIGABYTE   \n",
       "1     MSI Ventus GeForce RTX 3050 8GB GDDR6 PCI Expr...       MSI   \n",
       "2     GIGABYTE GeForce RTX 3050 EAGLE OC 8G Graphics...  GIGABYTE   \n",
       "3     MSI GeForce RTX 3050 8GB GDDR6 PCI Express 4.0...       MSI   \n",
       "4     GIGABYTE AORUS GeForce RTX 3050 ELITE 8G Graph...  GIGABYTE   \n",
       "...                                                 ...       ...   \n",
       "1393  GIGABYTE Gaming GeForce RTX 3090 Ti 24GB GDDR6...  GIGABYTE   \n",
       "1394  ASUS TUF Gaming NVIDIA GeForce RTX 3090 Ti O24...      ASUS   \n",
       "1395  ASUS TUF Gaming NVIDIA GeForce RTX 3090 Ti OC ...      ASUS   \n",
       "1396  ASUS ROG STRIX GeForce RTX 3090 Ti 24GB GDDR6X...      ASUS   \n",
       "1397  ASUS TUF Gaming GeForce RTX 3090 Ti 24GB GDDR6...      ASUS   \n",
       "\n",
       "            model    price  rating  review  \\\n",
       "0        RTX 3050   299.99     4.8      90   \n",
       "1        RTX 3050   289.99     4.8     101   \n",
       "2        RTX 3050   289.99     4.8      23   \n",
       "3        RTX 3050   289.99     5.0       1   \n",
       "4        RTX 3050   349.99     4.0       3   \n",
       "...           ...      ...     ...     ...   \n",
       "1393  RTX 3090-Ti  1999.99     0.0       0   \n",
       "1394  RTX 3090-Ti  1699.99     0.0       0   \n",
       "1395  RTX 3090-Ti  1699.99     0.0       0   \n",
       "1396  RTX 3090-Ti  1149.99     5.0      17   \n",
       "1397  RTX 3090-Ti  1449.99     4.7      34   \n",
       "\n",
       "                                                   link  \n",
       "0     https://www.newegg.com/gigabyte-geforce-rtx-30...  \n",
       "1     https://www.newegg.com/msi-geforce-rtx-3050-rt...  \n",
       "2     https://www.newegg.com/gigabyte-geforce-rtx-30...  \n",
       "3     https://www.newegg.com/msi-geforce-rtx-3050-rt...  \n",
       "4     https://www.newegg.com/gigabyte-geforce-rtx-30...  \n",
       "...                                                 ...  \n",
       "1393  https://www.newegg.com/gigabyte-geforce-rtx-30...  \n",
       "1394  https://www.newegg.com/asus-geforce-rtx-3090-t...  \n",
       "1395  https://www.newegg.com/asus-tuf-rtx3090ti-o24g...  \n",
       "1396  https://www.newegg.com/asus-geforce-rtx-3090-t...  \n",
       "1397  https://www.newegg.com/asus-geforce-rtx-3090-t...  \n",
       "\n",
       "[1398 rows x 7 columns]"
      ]
     },
     "execution_count": 20,
     "metadata": {},
     "output_type": "execute_result"
    }
   ],
   "source": [
    "df"
   ]
  },
  {
   "cell_type": "markdown",
   "metadata": {},
   "source": [
    "##### **<span style=\"color:green\">Part 2</span>:** Create DataFrame of GPU Performance and MSRP\n",
    "\n",
    ">Create a dataframe that holds the GPU name, performance (benchmark score by UserBenchmarks), and MSRP. Information can be obtained from UserBenchmark website."
   ]
  },
  {
   "cell_type": "markdown",
   "metadata": {},
   "source": [
    "<span style=\"color:green\">Step 1</span>: Import CSV file of GPU information from UserBenchmarks website. This CSV file has all GPUs ever existed and includes information not useful for this EDA.\n",
    "\n",
    "* Standard Comparison: Nvidia RTX 2060S ≈ 100%."
   ]
  },
  {
   "cell_type": "code",
   "execution_count": 21,
   "metadata": {},
   "outputs": [],
   "source": [
    "# Read the csv in the file path provided and create a dataframe\n",
    "gpu_info = pd.read_csv('/Users/yhc/Documents/Coding/EDA/DataAnalyst/GPU_UserBenchmarks.csv', header=0,)"
   ]
  },
  {
   "cell_type": "markdown",
   "metadata": {},
   "source": [
    "<span style=\"color:green\">Step 2</span>: Clean the data from this csv to only include the 30 series RTX GPUs."
   ]
  },
  {
   "cell_type": "code",
   "execution_count": 22,
   "metadata": {},
   "outputs": [
    {
     "name": "stderr",
     "output_type": "stream",
     "text": [
      "/var/folders/v1/__td9czx4ts4dt0pmkkw0sdh0000gn/T/ipykernel_12809/1606540360.py:5: SettingWithCopyWarning: \n",
      "A value is trying to be set on a copy of a slice from a DataFrame\n",
      "\n",
      "See the caveats in the documentation: https://pandas.pydata.org/pandas-docs/stable/user_guide/indexing.html#returning-a-view-versus-a-copy\n",
      "  rtx30.drop(labels=56, axis=0, inplace=True)\n",
      "/var/folders/v1/__td9czx4ts4dt0pmkkw0sdh0000gn/T/ipykernel_12809/1606540360.py:8: SettingWithCopyWarning: \n",
      "A value is trying to be set on a copy of a slice from a DataFrame\n",
      "\n",
      "See the caveats in the documentation: https://pandas.pydata.org/pandas-docs/stable/user_guide/indexing.html#returning-a-view-versus-a-copy\n",
      "  rtx30.drop(labels = ['Brand', 'Type', 'Part Number', 'Rank', 'URL'], axis=1, inplace=True)\n"
     ]
    }
   ],
   "source": [
    "# Select all the 30 series Nvidia GPU in the dataset\n",
    "rtx30 = gpu_info[(gpu_info['Model'].str.contains('RTX 30')) & (gpu_info['Brand'] == 'Nvidia') & (~gpu_info['Model'].str.contains('Laptop'))]\n",
    "\n",
    "# Drop the row that is wrong\n",
    "rtx30.drop(labels=56, axis=0, inplace=True)\n",
    "\n",
    "# Drop unnecessary columns\n",
    "rtx30.drop(labels = ['Brand', 'Type', 'Part Number', 'Rank', 'URL'], axis=1, inplace=True)\n",
    "\n",
    "# Change the column name case to lower\n",
    "rtx30.columns = rtx30.columns.str.lower()\n",
    "\n",
    "# Reverse the order of GPUs to be from 3050 - 3090 Ti\n",
    "rtx30r = rtx30.iloc[::-1]\n",
    "\n",
    "# Reset the index\n",
    "rtx30r.reset_index(drop=True, inplace=True)"
   ]
  },
  {
   "cell_type": "markdown",
   "metadata": {},
   "source": [
    "<span style=\"color:green\">Step 3</span>: Add MSRP price data for each GPU."
   ]
  },
  {
   "cell_type": "code",
   "execution_count": 23,
   "metadata": {},
   "outputs": [],
   "source": [
    "# MSRP of each GPU at launch\n",
    "msrp = [2000.00, 1500.00, 1200.00, 750.00, 600.00, 500.00, 400.00, 330.00, 250.00]\n",
    "# Reverse the array\n",
    "msrp.reverse()\n",
    "\n",
    "# Insert a new column for 'msrp' in rtx30\n",
    "rtx30r.insert(loc=3, column='msrp', value = msrp)"
   ]
  },
  {
   "attachments": {},
   "cell_type": "markdown",
   "metadata": {},
   "source": [
    "<span style=\"color:green\">Step 4</span>: Print the dataframe."
   ]
  },
  {
   "cell_type": "code",
   "execution_count": 24,
   "metadata": {},
   "outputs": [
    {
     "data": {
      "text/html": [
       "<div>\n",
       "<style scoped>\n",
       "    .dataframe tbody tr th:only-of-type {\n",
       "        vertical-align: middle;\n",
       "    }\n",
       "\n",
       "    .dataframe tbody tr th {\n",
       "        vertical-align: top;\n",
       "    }\n",
       "\n",
       "    .dataframe thead th {\n",
       "        text-align: right;\n",
       "    }\n",
       "</style>\n",
       "<table border=\"1\" class=\"dataframe\">\n",
       "  <thead>\n",
       "    <tr style=\"text-align: right;\">\n",
       "      <th></th>\n",
       "      <th>model</th>\n",
       "      <th>benchmark</th>\n",
       "      <th>samples</th>\n",
       "      <th>msrp</th>\n",
       "    </tr>\n",
       "  </thead>\n",
       "  <tbody>\n",
       "    <tr>\n",
       "      <th>0</th>\n",
       "      <td>RTX 3050</td>\n",
       "      <td>71.7</td>\n",
       "      <td>26735</td>\n",
       "      <td>250.0</td>\n",
       "    </tr>\n",
       "    <tr>\n",
       "      <th>1</th>\n",
       "      <td>RTX 3060</td>\n",
       "      <td>98.3</td>\n",
       "      <td>232735</td>\n",
       "      <td>330.0</td>\n",
       "    </tr>\n",
       "    <tr>\n",
       "      <th>2</th>\n",
       "      <td>RTX 3060-Ti</td>\n",
       "      <td>132.0</td>\n",
       "      <td>257683</td>\n",
       "      <td>400.0</td>\n",
       "    </tr>\n",
       "    <tr>\n",
       "      <th>3</th>\n",
       "      <td>RTX 3070</td>\n",
       "      <td>154.0</td>\n",
       "      <td>447840</td>\n",
       "      <td>500.0</td>\n",
       "    </tr>\n",
       "    <tr>\n",
       "      <th>4</th>\n",
       "      <td>RTX 3070-Ti</td>\n",
       "      <td>167.0</td>\n",
       "      <td>142865</td>\n",
       "      <td>600.0</td>\n",
       "    </tr>\n",
       "    <tr>\n",
       "      <th>5</th>\n",
       "      <td>RTX 3080</td>\n",
       "      <td>206.0</td>\n",
       "      <td>353788</td>\n",
       "      <td>750.0</td>\n",
       "    </tr>\n",
       "    <tr>\n",
       "      <th>6</th>\n",
       "      <td>RTX 3080-Ti</td>\n",
       "      <td>230.0</td>\n",
       "      <td>139549</td>\n",
       "      <td>1200.0</td>\n",
       "    </tr>\n",
       "    <tr>\n",
       "      <th>7</th>\n",
       "      <td>RTX 3090</td>\n",
       "      <td>233.0</td>\n",
       "      <td>125683</td>\n",
       "      <td>1500.0</td>\n",
       "    </tr>\n",
       "    <tr>\n",
       "      <th>8</th>\n",
       "      <td>RTX 3090-Ti</td>\n",
       "      <td>266.0</td>\n",
       "      <td>12073</td>\n",
       "      <td>2000.0</td>\n",
       "    </tr>\n",
       "  </tbody>\n",
       "</table>\n",
       "</div>"
      ],
      "text/plain": [
       "         model  benchmark  samples    msrp\n",
       "0     RTX 3050       71.7    26735   250.0\n",
       "1     RTX 3060       98.3   232735   330.0\n",
       "2  RTX 3060-Ti      132.0   257683   400.0\n",
       "3     RTX 3070      154.0   447840   500.0\n",
       "4  RTX 3070-Ti      167.0   142865   600.0\n",
       "5     RTX 3080      206.0   353788   750.0\n",
       "6  RTX 3080-Ti      230.0   139549  1200.0\n",
       "7     RTX 3090      233.0   125683  1500.0\n",
       "8  RTX 3090-Ti      266.0    12073  2000.0"
      ]
     },
     "execution_count": 24,
     "metadata": {},
     "output_type": "execute_result"
    }
   ],
   "source": [
    "rtx30r"
   ]
  },
  {
   "cell_type": "markdown",
   "metadata": {},
   "source": [
    "####  <ins>**G. Exploratory Data Analysis**</ins>\n",
    "This section will include all of the exploratory data analysis for this project. All of the DataFrames for each GPU will be created and the analysis of each product will be conducted with the support of data visualizations at the end."
   ]
  },
  {
   "cell_type": "markdown",
   "metadata": {},
   "source": [
    "##### **<span style=\"color:#5DADE2\">Analysis 1</span>:** Best GPU for Value\n",
    "\n",
    ">The prices for GPUs have been inflated by large amount because of cryptocurrency scalpers. However, prices have been dropping more and more and almost has reached MSRP. Compare the current GPU prices to launch MSRP and see which graphics card is most worth for value. "
   ]
  },
  {
   "cell_type": "markdown",
   "metadata": {},
   "source": [
    "<span style=\"color:green\">Step 1</span>: Group df by GPU 'model' and plot a boxplot to represent the outliers."
   ]
  },
  {
   "cell_type": "code",
   "execution_count": 25,
   "metadata": {},
   "outputs": [
    {
     "data": {
      "image/png": "[encoded data removed]",
      "text/plain": [
       "<Figure size 640x480 with 1 Axes>"
      ]
     },
     "metadata": {},
     "output_type": "display_data"
    }
   ],
   "source": [
    "# Group the data by the model type and create a list of all the prices within each group\n",
    "g = df.groupby('model')['price'].apply(list)\n",
    "\n",
    "# Create a boxplot of the prices to show outliers\n",
    "plot = plt.boxplot(g, labels = g.keys())\n",
    "plt.xticks(rotation=-45)\n",
    "plt.ylabel('Price ($)')\n",
    "plt.title(label='Fig 1. Box Plot of GPU Df')\n",
    "plt.show()"
   ]
  },
  {
   "cell_type": "markdown",
   "metadata": {},
   "source": [
    "<span style=\"color:green\">Step 2</span>: Obtain the Lower and Upper bound of useable data given the boxplot above. \n",
    "* This is to remove any outliers in the data and find a more accurate average price."
   ]
  },
  {
   "cell_type": "code",
   "execution_count": 26,
   "metadata": {},
   "outputs": [],
   "source": [
    "# Find the 1st Quartile for each GPU price\n",
    "q1 = [round(min(item.get_ydata()), 1) for item in plot['boxes']]\n",
    "# Find the 3rd Quartile for each GPU price\n",
    "q3 = [round(max(item.get_ydata()), 1) for item in plot['boxes']]\n",
    "# Find the Minimum price given the boxplot for each GPU\n",
    "minimums = [round(item.get_ydata()[0], 1) for item in plot['caps']][::2]\n",
    "# Find the Maximum price given the boxplot for each GPU\n",
    "maximums = [round(item.get_ydata()[0], 1) for item in plot['caps']][1::2]\n",
    "\n",
    "# Initialize an array to hold the lower and upper boundary value for each GPU\n",
    "lower_out_bound = []\n",
    "higher_out_bound = []\n",
    "\n",
    "# Counter\n",
    "i = 0\n",
    "\n",
    "# Traverse through the outliers from the boxplot\n",
    "for item in plot['fliers']:\n",
    "    # Temporary array to hold the lower and upper boundary value\n",
    "    item_lower = []\n",
    "    item_higher = []\n",
    "    \n",
    "    # Iterate through each outlier list and distinguish whether they are lower or upper outliers\n",
    "    for outlier in item.get_ydata():\n",
    "        # Lower outliers\n",
    "        if outlier < q1[i]:\n",
    "            item_lower.append(outlier)\n",
    "            item_higher.append(maximums[i]+1)\n",
    "\n",
    "        # Upper outliers\n",
    "        else:\n",
    "            item_higher.append(outlier)\n",
    "            item_lower.append(0)\n",
    "\n",
    "    # Assign the maximum of the lower outliers to the lower_boundary\n",
    "    lower_out_bound.append(max(item_lower))\n",
    "    # Assign the minimum of the upper outliers to the higher_boundary\n",
    "    higher_out_bound.append(min(item_higher))\n",
    "\n",
    "    # Increment the counter by 1\n",
    "    i = i + 1"
   ]
  },
  {
   "attachments": {},
   "cell_type": "markdown",
   "metadata": {},
   "source": [
    "<span style=\"color:green\">Step 3</span>: Remove the outliers with the boundaries and create a list of average price of each GPU model."
   ]
  },
  {
   "cell_type": "code",
   "execution_count": 27,
   "metadata": {},
   "outputs": [],
   "source": [
    "# Initialize an array to hold the average prices\n",
    "p_mean = []\n",
    "\n",
    "# Iterate through the GPU prices and remove the outliers\n",
    "for i in range(len(g)):\n",
    "    # Create a list of values between low and up boundaries\n",
    "    p = np.array(list(filter(lambda x: x>lower_out_bound[i] and x<higher_out_bound[i], sorted(g[i]))))\n",
    "    p_mean.append(p.mean())\n",
    "\n",
    "# Sort the array in reverse order to fit the data of rtx30\n",
    "p_mean.sort()\n"
   ]
  },
  {
   "attachments": {},
   "cell_type": "markdown",
   "metadata": {},
   "source": [
    "<span style=\"color:green\">Step 4</span>: Create a copy of the GPU dataframe and insert a new column for the average market price of GPUs on Newegg by model."
   ]
  },
  {
   "cell_type": "code",
   "execution_count": 28,
   "metadata": {},
   "outputs": [],
   "source": [
    "# Create a copy of the graphics card dataframe\n",
    "comp_gpu = rtx30r.copy()\n",
    "# Insert the average price column into the copied dataframe\n",
    "comp_gpu.insert(loc=4, column='avg_price', value=p_mean)"
   ]
  },
  {
   "attachments": {},
   "cell_type": "markdown",
   "metadata": {},
   "source": [
    "<span style=\"color:green\">Step 5</span>: Insert a column at the end of the dataframe that takes the difference of the current price and the MSRP."
   ]
  },
  {
   "cell_type": "code",
   "execution_count": 29,
   "metadata": {},
   "outputs": [],
   "source": [
    "# Add a new column for the price difference of avg market price and MSRP\n",
    "comp_gpu['prc_diff'] = comp_gpu['avg_price'] - comp_gpu['msrp']"
   ]
  },
  {
   "attachments": {},
   "cell_type": "markdown",
   "metadata": {},
   "source": [
    "<span style=\"color:green\">Step 6</span>: Print the dataframe to make sure all the data look correct."
   ]
  },
  {
   "cell_type": "code",
   "execution_count": 30,
   "metadata": {},
   "outputs": [
    {
     "data": {
      "text/html": [
       "<div>\n",
       "<style scoped>\n",
       "    .dataframe tbody tr th:only-of-type {\n",
       "        vertical-align: middle;\n",
       "    }\n",
       "\n",
       "    .dataframe tbody tr th {\n",
       "        vertical-align: top;\n",
       "    }\n",
       "\n",
       "    .dataframe thead th {\n",
       "        text-align: right;\n",
       "    }\n",
       "</style>\n",
       "<table border=\"1\" class=\"dataframe\">\n",
       "  <thead>\n",
       "    <tr style=\"text-align: right;\">\n",
       "      <th></th>\n",
       "      <th>model</th>\n",
       "      <th>benchmark</th>\n",
       "      <th>samples</th>\n",
       "      <th>msrp</th>\n",
       "      <th>avg_price</th>\n",
       "      <th>prc_diff</th>\n",
       "    </tr>\n",
       "  </thead>\n",
       "  <tbody>\n",
       "    <tr>\n",
       "      <th>0</th>\n",
       "      <td>RTX 3050</td>\n",
       "      <td>71.7</td>\n",
       "      <td>26735</td>\n",
       "      <td>250.0</td>\n",
       "      <td>408.034000</td>\n",
       "      <td>158.034000</td>\n",
       "    </tr>\n",
       "    <tr>\n",
       "      <th>1</th>\n",
       "      <td>RTX 3060</td>\n",
       "      <td>98.3</td>\n",
       "      <td>232735</td>\n",
       "      <td>330.0</td>\n",
       "      <td>459.331901</td>\n",
       "      <td>129.331901</td>\n",
       "    </tr>\n",
       "    <tr>\n",
       "      <th>2</th>\n",
       "      <td>RTX 3060-Ti</td>\n",
       "      <td>132.0</td>\n",
       "      <td>257683</td>\n",
       "      <td>400.0</td>\n",
       "      <td>539.059279</td>\n",
       "      <td>139.059279</td>\n",
       "    </tr>\n",
       "    <tr>\n",
       "      <th>3</th>\n",
       "      <td>RTX 3070</td>\n",
       "      <td>154.0</td>\n",
       "      <td>447840</td>\n",
       "      <td>500.0</td>\n",
       "      <td>697.236158</td>\n",
       "      <td>197.236158</td>\n",
       "    </tr>\n",
       "    <tr>\n",
       "      <th>4</th>\n",
       "      <td>RTX 3070-Ti</td>\n",
       "      <td>167.0</td>\n",
       "      <td>142865</td>\n",
       "      <td>600.0</td>\n",
       "      <td>819.031239</td>\n",
       "      <td>219.031239</td>\n",
       "    </tr>\n",
       "    <tr>\n",
       "      <th>5</th>\n",
       "      <td>RTX 3080</td>\n",
       "      <td>206.0</td>\n",
       "      <td>353788</td>\n",
       "      <td>750.0</td>\n",
       "      <td>1124.985684</td>\n",
       "      <td>374.985684</td>\n",
       "    </tr>\n",
       "    <tr>\n",
       "      <th>6</th>\n",
       "      <td>RTX 3080-Ti</td>\n",
       "      <td>230.0</td>\n",
       "      <td>139549</td>\n",
       "      <td>1200.0</td>\n",
       "      <td>1374.031538</td>\n",
       "      <td>174.031538</td>\n",
       "    </tr>\n",
       "    <tr>\n",
       "      <th>7</th>\n",
       "      <td>RTX 3090</td>\n",
       "      <td>233.0</td>\n",
       "      <td>125683</td>\n",
       "      <td>1500.0</td>\n",
       "      <td>1675.978134</td>\n",
       "      <td>175.978134</td>\n",
       "    </tr>\n",
       "    <tr>\n",
       "      <th>8</th>\n",
       "      <td>RTX 3090-Ti</td>\n",
       "      <td>266.0</td>\n",
       "      <td>12073</td>\n",
       "      <td>2000.0</td>\n",
       "      <td>2247.620667</td>\n",
       "      <td>247.620667</td>\n",
       "    </tr>\n",
       "  </tbody>\n",
       "</table>\n",
       "</div>"
      ],
      "text/plain": [
       "         model  benchmark  samples    msrp    avg_price    prc_diff\n",
       "0     RTX 3050       71.7    26735   250.0   408.034000  158.034000\n",
       "1     RTX 3060       98.3   232735   330.0   459.331901  129.331901\n",
       "2  RTX 3060-Ti      132.0   257683   400.0   539.059279  139.059279\n",
       "3     RTX 3070      154.0   447840   500.0   697.236158  197.236158\n",
       "4  RTX 3070-Ti      167.0   142865   600.0   819.031239  219.031239\n",
       "5     RTX 3080      206.0   353788   750.0  1124.985684  374.985684\n",
       "6  RTX 3080-Ti      230.0   139549  1200.0  1374.031538  174.031538\n",
       "7     RTX 3090      233.0   125683  1500.0  1675.978134  175.978134\n",
       "8  RTX 3090-Ti      266.0    12073  2000.0  2247.620667  247.620667"
      ]
     },
     "execution_count": 30,
     "metadata": {},
     "output_type": "execute_result"
    }
   ],
   "source": [
    "comp_gpu"
   ]
  },
  {
   "attachments": {},
   "cell_type": "markdown",
   "metadata": {},
   "source": [
    "<span style=\"color:green\">Step 7</span>: Create a horizontal bar plot to show the average market price, MSRP, and price difference for each GPU model."
   ]
  },
  {
   "cell_type": "code",
   "execution_count": 31,
   "metadata": {},
   "outputs": [
    {
     "data": {
      "text/plain": [
       "<matplotlib.legend.Legend at 0x16a47c700>"
      ]
     },
     "execution_count": 31,
     "metadata": {},
     "output_type": "execute_result"
    },
    {
     "data": {
      "image/png": "[encoded data removed]",
      "text/plain": [
       "<Figure size 640x480 with 1 Axes>"
      ]
     },
     "metadata": {},
     "output_type": "display_data"
    }
   ],
   "source": [
    "plt.barh(y= comp_gpu['model'], width= comp_gpu['avg_price'])\n",
    "plt.barh(y= comp_gpu['model'], width= comp_gpu['msrp'])\n",
    "plt.barh(y= comp_gpu['model'], width= comp_gpu['prc_diff'])\n",
    "plt.grid(axis = 'x', alpha = 0.4)\n",
    "plt.xticks([0, 250, 500, 750, 1000, 1250, 1500, 1750, 2000, 2250])\n",
    "plt.ylabel('GPU Model')\n",
    "plt.xlabel('Price ($)')\n",
    "plt.title(label = \"Fig 2. Price Comparison of Current and MSRP\")\n",
    "plt.legend(['avg_market_price', 'msrp', 'difference'])\n"
   ]
  },
  {
   "attachments": {},
   "cell_type": "markdown",
   "metadata": {},
   "source": [
    "<span style=\"color:green\">Step 8</span>: Create a dataframe of percent increases of performance and price for upgrading to the next model of GPU."
   ]
  },
  {
   "cell_type": "code",
   "execution_count": 32,
   "metadata": {},
   "outputs": [],
   "source": [
    "# Numpy array of percent increase of performances\n",
    "bench_inc = np.array(np.diff(comp_gpu['benchmark']) / comp_gpu['benchmark'][1:] * 100)\n",
    "# Numpy array of percent increase of prices\n",
    "prc_inc = np.array(np.diff(comp_gpu['avg_price']) / comp_gpu['avg_price'][1:] * 100)\n",
    "# Array of GPU model upgrade label\n",
    "x_comp = ['50-60', '60-60ti', '60ti-70', '70-70ti', '70ti-80', '80-80ti', '80ti-90', '90-90ti']\n",
    "\n",
    "# Dataframe created using array above\n",
    "percent_inc_df = pd.DataFrame({\n",
    "    'bench_inc': bench_inc,\n",
    "    'prc_inc': prc_inc\n",
    "    },\n",
    "    index= x_comp\n",
    "    )"
   ]
  },
  {
   "attachments": {},
   "cell_type": "markdown",
   "metadata": {},
   "source": [
    "<span style=\"color:green\">Step 9</span>: Plot a unstacked bar chart of percent performance and price increases."
   ]
  },
  {
   "cell_type": "code",
   "execution_count": 33,
   "metadata": {},
   "outputs": [
    {
     "data": {
      "text/plain": [
       "Text(0.5, 1.0, 'Fig 3. Performance & Price Increase for Upgrading GPU')"
      ]
     },
     "execution_count": 33,
     "metadata": {},
     "output_type": "execute_result"
    },
    {
     "data": {
      "image/png": "[encoded data removed]",
      "text/plain": [
       "<Figure size 640x480 with 1 Axes>"
      ]
     },
     "metadata": {},
     "output_type": "display_data"
    }
   ],
   "source": [
    "# Bar chart using dataframe created above\n",
    "percent_inc_df.plot(kind = 'bar', color = ['orange', 'green'], alpha = 0.6, width = 0.8)\n",
    "plt.xticks(rotation = -45)\n",
    "plt.xlabel('GPU Models')\n",
    "plt.ylabel('Percent Increase (%)')\n",
    "plt.legend(['performance inc', 'price inc'])\n",
    "plt.grid(axis = 'y', alpha = 0.3)\n",
    "plt.title('Fig 3. Performance & Price Increase for Upgrading GPU')"
   ]
  },
  {
   "attachments": {},
   "cell_type": "markdown",
   "metadata": {},
   "source": [
    "**<span style=\"color:#ff694e\">Conclusion</span>:** \n",
    "\n",
    "Accoding to the plot in Figure 2 above, the RTX 3060-Ti is the closest to returning to its MSRP and is most likely to be recommended to purchase. The RTX 3060 card also comes in very close with a price difference of approximately $135.53, however, it can be shown through Figure 3 that the performance boost of upgrading to the Titanium model is most worth of users. Given this conclusion, it would be recommended to purchase the RTX 3060-Ti card through Newegg. \n",
    "\n",
    "As for the least recommened GPU, the RTX 3080 does not have much of a reason to be purchased at this time. Looking at both figures 2 and 3, RTX 3080 graphics card has the greatest prices disparity between average market price and MSRP and has the greatest increase in price for upgrading to the next model. The increase that users will be getting on performance cannot be justified by the highest increase in price for upgrading from a RTX 3070 Ti to a RTX 3080."
   ]
  },
  {
   "attachments": {},
   "cell_type": "markdown",
   "metadata": {},
   "source": [
    "##### **<span style=\"color:#5DADE2\">Analysis 2</span>:** Popular Manufacturers\n",
    "\n",
    ">There are many manufacturers for each GPU models and it is interesting that some companies most certainly have a larger amount of reviews for their products. Which of these companies have the most number of reviews and the highest ratings? It will also be very interesting to see whether these outcomes are due to the competitive pricing they offer or because of other reasons. This analysis section will look into the popularity of each company according to the reviews they have received."
   ]
  },
  {
   "attachments": {},
   "cell_type": "markdown",
   "metadata": {},
   "source": [
    "<span style=\"color:green\">Step 1</span>: Group df by the company name and the GPU model and make sure that the GPUs without any ratings are not included."
   ]
  },
  {
   "cell_type": "code",
   "execution_count": 34,
   "metadata": {},
   "outputs": [],
   "source": [
    "manufac_df = df[df['rating'] > 0.0].groupby(['company', 'model'])"
   ]
  },
  {
   "attachments": {},
   "cell_type": "markdown",
   "metadata": {},
   "source": [
    "<span style=\"color:green\">Step 2</span>: Find the sum of the reviews, average of the ratings, and average price of GPU grouped by company and GPU type."
   ]
  },
  {
   "cell_type": "code",
   "execution_count": 35,
   "metadata": {},
   "outputs": [],
   "source": [
    "# Number of reviews for each GPU by model and company\n",
    "rev = manufac_df['review'].sum()\n",
    "# Average rating for each GPU by model and company\n",
    "rat = manufac_df['rating'].mean()\n",
    "# Average price for each GPU by model and company\n",
    "pr = manufac_df['price'].mean()\n",
    "\n",
    "# Create a dataframe of all the new values after grouping\n",
    "manufacturer = pd.concat([rev, rat, pr], axis=1)"
   ]
  },
  {
   "cell_type": "code",
   "execution_count": 36,
   "metadata": {},
   "outputs": [
    {
     "data": {
      "text/html": [
       "<div>\n",
       "<style scoped>\n",
       "    .dataframe tbody tr th:only-of-type {\n",
       "        vertical-align: middle;\n",
       "    }\n",
       "\n",
       "    .dataframe tbody tr th {\n",
       "        vertical-align: top;\n",
       "    }\n",
       "\n",
       "    .dataframe thead th {\n",
       "        text-align: right;\n",
       "    }\n",
       "</style>\n",
       "<table border=\"1\" class=\"dataframe\">\n",
       "  <thead>\n",
       "    <tr style=\"text-align: right;\">\n",
       "      <th></th>\n",
       "      <th></th>\n",
       "      <th>review</th>\n",
       "      <th>rating</th>\n",
       "      <th>price</th>\n",
       "    </tr>\n",
       "    <tr>\n",
       "      <th>company</th>\n",
       "      <th>model</th>\n",
       "      <th></th>\n",
       "      <th></th>\n",
       "      <th></th>\n",
       "    </tr>\n",
       "  </thead>\n",
       "  <tbody>\n",
       "    <tr>\n",
       "      <th rowspan=\"5\" valign=\"top\">ASUS</th>\n",
       "      <th>RTX 3050</th>\n",
       "      <td>143</td>\n",
       "      <td>4.70000</td>\n",
       "      <td>344.593333</td>\n",
       "    </tr>\n",
       "    <tr>\n",
       "      <th>RTX 3060</th>\n",
       "      <td>467</td>\n",
       "      <td>4.55625</td>\n",
       "      <td>468.516250</td>\n",
       "    </tr>\n",
       "    <tr>\n",
       "      <th>RTX 3060-Ti</th>\n",
       "      <td>341</td>\n",
       "      <td>4.70000</td>\n",
       "      <td>561.338000</td>\n",
       "    </tr>\n",
       "    <tr>\n",
       "      <th>RTX 3070</th>\n",
       "      <td>324</td>\n",
       "      <td>4.74000</td>\n",
       "      <td>795.870000</td>\n",
       "    </tr>\n",
       "    <tr>\n",
       "      <th>RTX 3070-Ti</th>\n",
       "      <td>287</td>\n",
       "      <td>4.87500</td>\n",
       "      <td>717.465000</td>\n",
       "    </tr>\n",
       "    <tr>\n",
       "      <th>...</th>\n",
       "      <th>...</th>\n",
       "      <td>...</td>\n",
       "      <td>...</td>\n",
       "      <td>...</td>\n",
       "    </tr>\n",
       "    <tr>\n",
       "      <th rowspan=\"5\" valign=\"top\">ZOTAC</th>\n",
       "      <th>RTX 3070-Ti</th>\n",
       "      <td>33</td>\n",
       "      <td>4.15000</td>\n",
       "      <td>884.500000</td>\n",
       "    </tr>\n",
       "    <tr>\n",
       "      <th>RTX 3080</th>\n",
       "      <td>32</td>\n",
       "      <td>4.74000</td>\n",
       "      <td>1375.350000</td>\n",
       "    </tr>\n",
       "    <tr>\n",
       "      <th>RTX 3080-Ti</th>\n",
       "      <td>65</td>\n",
       "      <td>4.70000</td>\n",
       "      <td>1530.000000</td>\n",
       "    </tr>\n",
       "    <tr>\n",
       "      <th>RTX 3090</th>\n",
       "      <td>24</td>\n",
       "      <td>4.50000</td>\n",
       "      <td>1649.495000</td>\n",
       "    </tr>\n",
       "    <tr>\n",
       "      <th>RTX 3090-Ti</th>\n",
       "      <td>7</td>\n",
       "      <td>4.10000</td>\n",
       "      <td>1689.000000</td>\n",
       "    </tr>\n",
       "  </tbody>\n",
       "</table>\n",
       "<p>63 rows × 3 columns</p>\n",
       "</div>"
      ],
      "text/plain": [
       "                     review   rating        price\n",
       "company model                                    \n",
       "ASUS    RTX 3050        143  4.70000   344.593333\n",
       "        RTX 3060        467  4.55625   468.516250\n",
       "        RTX 3060-Ti     341  4.70000   561.338000\n",
       "        RTX 3070        324  4.74000   795.870000\n",
       "        RTX 3070-Ti     287  4.87500   717.465000\n",
       "...                     ...      ...          ...\n",
       "ZOTAC   RTX 3070-Ti      33  4.15000   884.500000\n",
       "        RTX 3080         32  4.74000  1375.350000\n",
       "        RTX 3080-Ti      65  4.70000  1530.000000\n",
       "        RTX 3090         24  4.50000  1649.495000\n",
       "        RTX 3090-Ti       7  4.10000  1689.000000\n",
       "\n",
       "[63 rows x 3 columns]"
      ]
     },
     "execution_count": 36,
     "metadata": {},
     "output_type": "execute_result"
    }
   ],
   "source": [
    "# Print the dataframe\n",
    "manufacturer"
   ]
  },
  {
   "attachments": {},
   "cell_type": "markdown",
   "metadata": {},
   "source": [
    "<span style=\"color:green\">Step 3</span>: Group the dataframe by the company name and sum up all of the reviews to see which company receives the most reviews."
   ]
  },
  {
   "cell_type": "code",
   "execution_count": 37,
   "metadata": {},
   "outputs": [
    {
     "data": {
      "text/html": [
       "<div>\n",
       "<style scoped>\n",
       "    .dataframe tbody tr th:only-of-type {\n",
       "        vertical-align: middle;\n",
       "    }\n",
       "\n",
       "    .dataframe tbody tr th {\n",
       "        vertical-align: top;\n",
       "    }\n",
       "\n",
       "    .dataframe thead th {\n",
       "        text-align: right;\n",
       "    }\n",
       "</style>\n",
       "<table border=\"1\" class=\"dataframe\">\n",
       "  <thead>\n",
       "    <tr style=\"text-align: right;\">\n",
       "      <th></th>\n",
       "      <th>review</th>\n",
       "    </tr>\n",
       "    <tr>\n",
       "      <th>company</th>\n",
       "      <th></th>\n",
       "    </tr>\n",
       "  </thead>\n",
       "  <tbody>\n",
       "    <tr>\n",
       "      <th>GIGABYTE</th>\n",
       "      <td>3499</td>\n",
       "    </tr>\n",
       "    <tr>\n",
       "      <th>MSI</th>\n",
       "      <td>2718</td>\n",
       "    </tr>\n",
       "    <tr>\n",
       "      <th>ASUS</th>\n",
       "      <td>2641</td>\n",
       "    </tr>\n",
       "    <tr>\n",
       "      <th>EVGA</th>\n",
       "      <td>1687</td>\n",
       "    </tr>\n",
       "    <tr>\n",
       "      <th>ZOTAC</th>\n",
       "      <td>302</td>\n",
       "    </tr>\n",
       "    <tr>\n",
       "      <th>YESTON</th>\n",
       "      <td>39</td>\n",
       "    </tr>\n",
       "    <tr>\n",
       "      <th>PNY</th>\n",
       "      <td>31</td>\n",
       "    </tr>\n",
       "    <tr>\n",
       "      <th>MAXSUN</th>\n",
       "      <td>16</td>\n",
       "    </tr>\n",
       "    <tr>\n",
       "      <th>PELADN</th>\n",
       "      <td>4</td>\n",
       "    </tr>\n",
       "    <tr>\n",
       "      <th>MLLSE</th>\n",
       "      <td>3</td>\n",
       "    </tr>\n",
       "    <tr>\n",
       "      <th>NVIDIA</th>\n",
       "      <td>2</td>\n",
       "    </tr>\n",
       "    <tr>\n",
       "      <th>GEFORCE</th>\n",
       "      <td>1</td>\n",
       "    </tr>\n",
       "    <tr>\n",
       "      <th>VIDEO</th>\n",
       "      <td>1</td>\n",
       "    </tr>\n",
       "  </tbody>\n",
       "</table>\n",
       "</div>"
      ],
      "text/plain": [
       "          review\n",
       "company         \n",
       "GIGABYTE    3499\n",
       "MSI         2718\n",
       "ASUS        2641\n",
       "EVGA        1687\n",
       "ZOTAC        302\n",
       "YESTON        39\n",
       "PNY           31\n",
       "MAXSUN        16\n",
       "PELADN         4\n",
       "MLLSE          3\n",
       "NVIDIA         2\n",
       "GEFORCE        1\n",
       "VIDEO          1"
      ]
     },
     "execution_count": 37,
     "metadata": {},
     "output_type": "execute_result"
    }
   ],
   "source": [
    "pd.DataFrame(manufacturer.groupby('company')['review'].sum().sort_values(ascending=False))"
   ]
  },
  {
   "attachments": {},
   "cell_type": "markdown",
   "metadata": {},
   "source": [
    "**<span style=\"color: #ff694e \">[Results] Popular Company</span>**\n",
    "\n",
    "From the results of grouping the GPU data by manufacturer names, it shows that GIGABYTE has the most number of reviews for their GPU sold on Newegg. Although the number of reviews cannot be the most precise measurement of products sold, it is the most accurate result given the dataset from Newegg."
   ]
  },
  {
   "attachments": {},
   "cell_type": "markdown",
   "metadata": {},
   "source": [
    "<span style=\"color:green\">Step 4</span>: Create a subplot of bar plots to show if price does have an effect on the number of reviews a product receives. The way the plot can be arranged is to have the manufacturer companies be placed in order of most reviews to least reviews, and have the prices for each company for each model of GPU shown as a bar graph. Because we know that GIGABYTE is the manufacturer that has the most reviews, I will highlight them to see if there is a common trend throughout the entire GPU market."
   ]
  },
  {
   "cell_type": "code",
   "execution_count": 40,
   "metadata": {},
   "outputs": [
    {
     "data": {
      "image/png": "[encoded data removed]",
      "text/plain": [
       "<Figure size 1500x1200 with 9 Axes>"
      ]
     },
     "metadata": {},
     "output_type": "display_data"
    }
   ],
   "source": [
    "# Remove any GPUs that have less than 5 reviews\n",
    "comp_manufac = manufacturer[manufacturer['review'] >= 5]\n",
    "\n",
    "# Number of rows and columns for the subplot\n",
    "row = 3\n",
    "col = 3\n",
    "\n",
    "# Counter to traverse the GPU name\n",
    "count = 0\n",
    "\n",
    "# If I want to use the color scheme of Tableau\n",
    "# tcolor = list(mcolors.TABLEAU_COLORS.values())\n",
    "\n",
    "# Initialize a subplot given the r,c shape and size\n",
    "fig, axs = plt.subplots(row, col, figsize = (15,12))\n",
    "\n",
    "# Traverse through the subplots and add each GPU price bar chart\n",
    "for r in range(row):\n",
    "    for c in range(col):\n",
    "        # Get the names of the GPU model \n",
    "        m = rtx30r['model'][count]\n",
    "        # Retrieve the prices for each model and plot it by manufacturers using .xs function\n",
    "        p = comp_manufac.xs(m, level='model').sort_values('review', ascending=False)['price']\n",
    "        # Set a parameter for colors to highlight GIGABYTE for reference\n",
    "        colors = ['#3d728b' if k != 'GIGABYTE' else '#e63333' for k in p.keys()]\n",
    "        \n",
    "        # For each subplot, create a bar chart with x values as the names of companies and height as the average price of each GPU by manufacturer\n",
    "        axs[r, c].bar(x = p.keys(), height = p, color = colors)\n",
    "        # Set the title for each subplot to be the GPU model\n",
    "        axs[r, c].set_title(m)\n",
    "        # Set each grid to be on the y-axis\n",
    "        axs[r, c].grid(axis = 'y', alpha = 0.4)\n",
    "        # Make the ticks 50 degrees to see the name\n",
    "        axs[r, c].tick_params(axis = 'x', rotation = -50)\n",
    "\n",
    "        # Increment the counter by 1\n",
    "        count = count + 1\n",
    "\n",
    "# Increase spacing between plots\n",
    "fig.tight_layout(pad=3)\n",
    "# Create common x label for the entire plot\n",
    "fig.supxlabel('Manufacturers')\n",
    "# Create common y label for the entire plot\n",
    "fig.supylabel('Price ($)')\n",
    "# Create a common title for the entire plot\n",
    "fig.suptitle('Fig 4. Price for Each Manufacturer Ordered by Number of Reviews', fontsize = 15, y=1.01)\n",
    "# Add spacing on the bottom and top of the plot for formatting\n",
    "fig.subplots_adjust(bottom=0.098, left=0.07)"
   ]
  },
  {
   "attachments": {},
   "cell_type": "markdown",
   "metadata": {},
   "source": [
    "**<span style=\"color:#ff694e\">Conclusion</span>:** \n",
    "\n",
    "Figure 4 above plots the price for each manufacturer for the respective GPUs and orders the manufacturers from most reviews to least reviews from left to right. I have highlighted Gigabyte on each subplot to represent the most popular manufacturer. This can help determine if Gigabyte provides better pricing than other manufacturers. In general, it seems that gigabyte does in fact provide some of the lower prices for each GPU model. However, in the higher end models, it seems that they are one of the most expensive manufacturers, but still is one of the more popular companies."
   ]
  },
  {
   "cell_type": "code",
   "execution_count": null,
   "metadata": {},
   "outputs": [],
   "source": []
  }
 ],
 "metadata": {
  "kernelspec": {
   "display_name": "Python 3 (ipykernel)",
   "language": "python",
   "name": "python3"
  },
  "language_info": {
   "codemirror_mode": {
    "name": "ipython",
    "version": 3
   },
   "file_extension": ".py",
   "mimetype": "text/x-python",
   "name": "python",
   "nbconvert_exporter": "python",
   "pygments_lexer": "ipython3",
   "version": "3.10.8"
  },
  "vscode": {
   "interpreter": {
    "hash": "b0fa6594d8f4cbf19f97940f81e996739fb7646882a419484c72d19e05852a7e"
   }
  }
 },
 "nbformat": 4,
 "nbformat_minor": 2
}
